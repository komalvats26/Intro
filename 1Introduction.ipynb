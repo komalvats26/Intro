{
 "cells": [
  {
   "cell_type": "markdown",
   "metadata": {},
   "source": [
    "# Basics\n"
   ]
  },
  {
   "cell_type": "code",
   "execution_count": null,
   "metadata": {},
   "outputs": [],
   "source": [
    "cntrl / comment\n",
    "# a = 10\n",
    "# b = 20"
   ]
  },
  {
   "cell_type": "code",
   "execution_count": 1,
   "metadata": {},
   "outputs": [
    {
     "data": {
      "text/plain": [
       "1"
      ]
     },
     "execution_count": 1,
     "metadata": {},
     "output_type": "execute_result"
    }
   ],
   "source": [
    "5 %3 # returns remainder\n",
    "5//3 # returns qoutient"
   ]
  },
  {
   "cell_type": "code",
   "execution_count": null,
   "metadata": {},
   "outputs": [],
   "source": [
    "a = 10"
   ]
  },
  {
   "cell_type": "code",
   "execution_count": null,
   "metadata": {},
   "outputs": [],
   "source": [
    "type(a)"
   ]
  },
  {
   "cell_type": "code",
   "execution_count": 4,
   "metadata": {},
   "outputs": [
    {
     "data": {
      "text/plain": [
       "16"
      ]
     },
     "execution_count": 4,
     "metadata": {},
     "output_type": "execute_result"
    }
   ],
   "source": [
    "2 ** 4 ##exponential"
   ]
  },
  {
   "cell_type": "raw",
   "metadata": {},
   "source": [
    "# Data types\n",
    "\n",
    "number\n",
    "float\n",
    "string\n",
    "boolean\n",
    "lists\n",
    "dictionary \n",
    "tuple\n",
    "sets"
   ]
  },
  {
   "cell_type": "code",
   "execution_count": 1,
   "metadata": {},
   "outputs": [
    {
     "data": {
      "text/plain": [
       "2"
      ]
     },
     "execution_count": 1,
     "metadata": {},
     "output_type": "execute_result"
    }
   ],
   "source": [
    "# number\n",
    "1+1"
   ]
  },
  {
   "cell_type": "code",
   "execution_count": 5,
   "metadata": {},
   "outputs": [],
   "source": [
    "# float\n",
    "a = float(2.3)"
   ]
  },
  {
   "cell_type": "code",
   "execution_count": 6,
   "metadata": {},
   "outputs": [],
   "source": [
    "a = 2.3"
   ]
  },
  {
   "cell_type": "code",
   "execution_count": 7,
   "metadata": {},
   "outputs": [
    {
     "data": {
      "text/plain": [
       "float"
      ]
     },
     "execution_count": 7,
     "metadata": {},
     "output_type": "execute_result"
    }
   ],
   "source": [
    "type(a)"
   ]
  },
  {
   "cell_type": "code",
   "execution_count": 3,
   "metadata": {},
   "outputs": [
    {
     "name": "stdout",
     "output_type": "stream",
     "text": [
      "0\n"
     ]
    },
    {
     "data": {
      "text/plain": [
       "1"
      ]
     },
     "execution_count": 3,
     "metadata": {},
     "output_type": "execute_result"
    }
   ],
   "source": [
    "# boolean\n",
    "print(int(False))\n",
    "int(True)"
   ]
  },
  {
   "cell_type": "markdown",
   "metadata": {},
   "source": [
    "# strings"
   ]
  },
  {
   "cell_type": "code",
   "execution_count": null,
   "metadata": {},
   "outputs": [],
   "source": [
    "word = 'hello'"
   ]
  },
  {
   "cell_type": "code",
   "execution_count": 9,
   "metadata": {},
   "outputs": [
    {
     "data": {
      "text/plain": [
       "str"
      ]
     },
     "execution_count": 9,
     "metadata": {},
     "output_type": "execute_result"
    }
   ],
   "source": [
    "word = \"can't\"\n",
    "word\n",
    "type('word')\n",
    "type(word)"
   ]
  },
  {
   "cell_type": "code",
   "execution_count": 1,
   "metadata": {},
   "outputs": [
    {
     "name": "stdout",
     "output_type": "stream",
     "text": [
      "30\n",
      "value is 30\n"
     ]
    }
   ],
   "source": [
    "a=10\n",
    "b=20\n",
    "c=a+b\n",
    "print(c)\n",
    "print('value is', c)"
   ]
  },
  {
   "cell_type": "code",
   "execution_count": null,
   "metadata": {},
   "outputs": [],
   "source": [
    "'''\n",
    "multi-line comments\n",
    "\n",
    "'''"
   ]
  },
  {
   "cell_type": "code",
   "execution_count": 12,
   "metadata": {},
   "outputs": [
    {
     "name": "stdout",
     "output_type": "stream",
     "text": [
      "<class 'int'>\n"
     ]
    },
    {
     "data": {
      "text/plain": [
       "int"
      ]
     },
     "execution_count": 12,
     "metadata": {},
     "output_type": "execute_result"
    }
   ],
   "source": [
    "print(type(c))\n",
    "type(c)"
   ]
  },
  {
   "cell_type": "markdown",
   "metadata": {},
   "source": [
    "# boolean"
   ]
  },
  {
   "cell_type": "code",
   "execution_count": 13,
   "metadata": {},
   "outputs": [
    {
     "data": {
      "text/plain": [
       "bool"
      ]
     },
     "execution_count": 13,
     "metadata": {},
     "output_type": "execute_result"
    }
   ],
   "source": [
    "type(True)"
   ]
  },
  {
   "cell_type": "code",
   "execution_count": 14,
   "metadata": {},
   "outputs": [
    {
     "data": {
      "text/plain": [
       "True"
      ]
     },
     "execution_count": 14,
     "metadata": {},
     "output_type": "execute_result"
    }
   ],
   "source": [
    "True"
   ]
  },
  {
   "cell_type": "markdown",
   "metadata": {},
   "source": [
    "# Variable assignment"
   ]
  },
  {
   "cell_type": "code",
   "execution_count": 15,
   "metadata": {},
   "outputs": [
    {
     "name": "stdout",
     "output_type": "stream",
     "text": [
      "value of x 2\n",
      "value of y 3\n",
      "value of z 4\n"
     ]
    }
   ],
   "source": [
    "x=2\n",
    "y=3\n",
    "z=4 \n",
    "#tuple unpacking\n",
    "x,y,z = 2,3,4\n",
    "print('value of x', x)\n",
    "print('value of y', y)\n",
    "print('value of z', z)"
   ]
  },
  {
   "cell_type": "code",
   "execution_count": 16,
   "metadata": {},
   "outputs": [
    {
     "data": {
      "text/plain": [
       "'C:\\\\Users\\\\admin\\\\Downloads\\\\python'"
      ]
     },
     "execution_count": 16,
     "metadata": {},
     "output_type": "execute_result"
    }
   ],
   "source": [
    "import os\n",
    "os.getcwd()"
   ]
  },
  {
   "cell_type": "markdown",
   "metadata": {},
   "source": [
    "# concatenation"
   ]
  },
  {
   "cell_type": "code",
   "execution_count": 1,
   "metadata": {},
   "outputs": [
    {
     "name": "stdout",
     "output_type": "stream",
     "text": [
      "hellothere\n"
     ]
    }
   ],
   "source": [
    "print('hello' + 'there') #gives no space"
   ]
  },
  {
   "cell_type": "code",
   "execution_count": 2,
   "metadata": {},
   "outputs": [
    {
     "name": "stdout",
     "output_type": "stream",
     "text": [
      "hello there\n"
     ]
    }
   ],
   "source": [
    "print('hello', 'there')"
   ]
  },
  {
   "cell_type": "markdown",
   "metadata": {},
   "source": [
    "# inter - converting string"
   ]
  },
  {
   "cell_type": "code",
   "execution_count": 3,
   "metadata": {},
   "outputs": [
    {
     "name": "stdout",
     "output_type": "stream",
     "text": [
      "100.0\n",
      "100 <class 'int'>\n"
     ]
    }
   ],
   "source": [
    "s = '100'\n",
    "print(float(s))\n",
    "cs = int(s) # converting s string into int\n",
    "cs\n",
    "print(cs, type(cs))\n",
    "\n"
   ]
  },
  {
   "cell_type": "code",
   "execution_count": 2,
   "metadata": {},
   "outputs": [
    {
     "name": "stdout",
     "output_type": "stream",
     "text": [
      "100 <class 'str'>\n"
     ]
    },
    {
     "data": {
      "text/plain": [
       "101"
      ]
     },
     "execution_count": 2,
     "metadata": {},
     "output_type": "execute_result"
    }
   ],
   "source": [
    "s = 100\n",
    "conn = str(s)\n",
    "conn\n",
    "print(conn, type(conn))\n",
    "s+1"
   ]
  },
  {
   "cell_type": "code",
   "execution_count": 30,
   "metadata": {},
   "outputs": [
    {
     "data": {
      "text/plain": [
       "6"
      ]
     },
     "execution_count": 30,
     "metadata": {},
     "output_type": "execute_result"
    }
   ],
   "source": [
    "x,y = 12,2\n",
    "x //y # absolute\n",
    "x/y  #float"
   ]
  },
  {
   "cell_type": "code",
   "execution_count": 14,
   "metadata": {},
   "outputs": [],
   "source": [
    "x=10\n",
    "\n",
    "y=2\n",
    "\n",
    "# x += y    # x = x+y\n",
    "\n",
    "# x *= y\n",
    "\n",
    "# x /= y\n",
    "\n",
    "# x %= y\n",
    "\n",
    "# x"
   ]
  },
  {
   "cell_type": "code",
   "execution_count": 10,
   "metadata": {},
   "outputs": [],
   "source": [
    "x,y = 1,2\n",
    "display(x=+y)"
   ]
  },
  {
   "cell_type": "code",
   "execution_count": null,
   "metadata": {},
   "outputs": [],
   "source": [
    "word = 'hello'\n",
    "'e' in word\n",
    "'h' not in word\n"
   ]
  },
  {
   "cell_type": "markdown",
   "metadata": {},
   "source": [
    "# Python collections\n",
    "# list"
   ]
  },
  {
   "cell_type": "code",
   "execution_count": 5,
   "metadata": {},
   "outputs": [
    {
     "data": {
      "text/plain": [
       "list"
      ]
     },
     "execution_count": 5,
     "metadata": {},
     "output_type": "execute_result"
    }
   ],
   "source": [
    "lis = [11,22,33,44,55]\n",
    "type(lis)  # all kinds of datatypes"
   ]
  },
  {
   "cell_type": "code",
   "execution_count": 6,
   "metadata": {},
   "outputs": [
    {
     "name": "stdout",
     "output_type": "stream",
     "text": [
      "11\n",
      "22\n",
      "33\n",
      "44\n",
      "55\n"
     ]
    }
   ],
   "source": [
    "# here the \"value\" will return the as it is elemensts in list\n",
    "for value in lis:\n",
    "    print(value)"
   ]
  },
  {
   "cell_type": "code",
   "execution_count": 14,
   "metadata": {},
   "outputs": [
    {
     "name": "stdout",
     "output_type": "stream",
     "text": [
      "33\n"
     ]
    }
   ],
   "source": [
    "for value in lis:\n",
    "    if lis[1] != lis[-1]:\n",
    "        print(lis[2])\n",
    "        break"
   ]
  },
  {
   "cell_type": "code",
   "execution_count": 15,
   "metadata": {},
   "outputs": [
    {
     "data": {
      "text/plain": [
       "[1, 2, 3, 4, 5, 9, 8, 7, 6, 5]"
      ]
     },
     "execution_count": 15,
     "metadata": {},
     "output_type": "execute_result"
    }
   ],
   "source": [
    "[1,2,3,4,5] + [9,8,7,6,5]   # concatination"
   ]
  },
  {
   "cell_type": "code",
   "execution_count": 7,
   "metadata": {},
   "outputs": [
    {
     "name": "stdout",
     "output_type": "stream",
     "text": [
      "0\n",
      "1\n",
      "2\n",
      "3\n",
      "4\n"
     ]
    }
   ],
   "source": [
    "# RANGE FUNCTION\n",
    "#here the value will return the \"indexes\" of the values in the list\n",
    "for value in range(len(lis)):\n",
    "    print(value)"
   ]
  },
  {
   "cell_type": "code",
   "execution_count": 27,
   "metadata": {},
   "outputs": [
    {
     "name": "stdout",
     "output_type": "stream",
     "text": [
      "21\n",
      "32\n",
      "43\n",
      "54\n",
      "65\n"
     ]
    }
   ],
   "source": [
    "for value in lis:\n",
    "    print(value+10)"
   ]
  },
  {
   "cell_type": "code",
   "execution_count": 28,
   "metadata": {},
   "outputs": [
    {
     "data": {
      "text/plain": [
       "[1, 2, 3, 4, 5, 5, 6, 7, 5, 6]"
      ]
     },
     "execution_count": 28,
     "metadata": {},
     "output_type": "execute_result"
    }
   ],
   "source": [
    "# concatenate commnd in list\n",
    "[1,2,3,4,5] + [5,6,7,5,6]"
   ]
  },
  {
   "cell_type": "markdown",
   "metadata": {},
   "source": [
    "# List operations\n",
    "## 1.INDEX\n",
    "\n"
   ]
  },
  {
   "cell_type": "code",
   "execution_count": 4,
   "metadata": {},
   "outputs": [
    {
     "data": {
      "text/plain": [
       "1"
      ]
     },
     "execution_count": 4,
     "metadata": {},
     "output_type": "execute_result"
    }
   ],
   "source": [
    "f = [\"green\", \"blue\", \"pink\",\"purple\"]\n",
    "f.index(\"blue\")  # index of a value"
   ]
  },
  {
   "cell_type": "code",
   "execution_count": 17,
   "metadata": {},
   "outputs": [
    {
     "name": "stdout",
     "output_type": "stream",
     "text": [
      "[1, 2, 3, -10, 5, 7, 8, 9, 10]\n"
     ]
    },
    {
     "data": {
      "text/plain": [
       "[1, 2, 3, -10, 5, 7, 8, -50, 10]"
      ]
     },
     "execution_count": 17,
     "metadata": {},
     "output_type": "execute_result"
    }
   ],
   "source": [
    "f = [1,2,3,4,5,7,8,9,10]\n",
    "f[3] = -10   # overwrite/replaces the value at index 3\n",
    "print(f)\n",
    "f[-2] = -50\n",
    "f"
   ]
  },
  {
   "cell_type": "markdown",
   "metadata": {},
   "source": [
    "## 2.APPEND "
   ]
  },
  {
   "cell_type": "code",
   "execution_count": 8,
   "metadata": {},
   "outputs": [
    {
     "name": "stdout",
     "output_type": "stream",
     "text": [
      "appended f is :  [1, 2, 3, 4, 56, 6, [10, 20, 30]] \n",
      "\n"
     ]
    }
   ],
   "source": [
    "\n",
    "'''\n",
    "The append() method is used to add elements at the end of the list. \n",
    "This method can only add a single element at a time. To add multiple elements,\n",
    "the append() method can be used inside a loop.\n",
    "'''\n",
    "f = [1,2,3,4,56,6]\n",
    "\n",
    "f1 = [10,20,30]\n",
    "f.append(f1)\n",
    "print('appended f is : ', f, '\\n')\n",
    "# nested list"
   ]
  },
  {
   "cell_type": "code",
   "execution_count": 3,
   "metadata": {},
   "outputs": [
    {
     "name": "stdout",
     "output_type": "stream",
     "text": [
      "apppenend new [6, 5, 4, 3, 2, 'new']\n"
     ]
    }
   ],
   "source": [
    "j = 'new'\n",
    "f.append(j)\n",
    "print('apppenend new', f)"
   ]
  },
  {
   "cell_type": "code",
   "execution_count": 26,
   "metadata": {},
   "outputs": [
    {
     "name": "stdout",
     "output_type": "stream",
     "text": [
      "[1, 2, 3, 4, 5, 9, 8, 7, 6]\n"
     ]
    }
   ],
   "source": [
    "a = [1,2,3,4,5]\n",
    "b= [9,8,7,6]\n",
    "for number in b:\n",
    "    a.append(number)\n",
    "print(a)    "
   ]
  },
  {
   "cell_type": "code",
   "execution_count": 6,
   "metadata": {},
   "outputs": [
    {
     "name": "stdout",
     "output_type": "stream",
     "text": [
      "[1, 2, 3, 4, 5, 9, 8, 7, 6]\n"
     ]
    }
   ],
   "source": [
    "a = [1,2,3,4,5]\n",
    "b= [9,8,7,6]\n",
    "a.extend(b)\n",
    "print(a)\n",
    "\n",
    "# return simplelist"
   ]
  },
  {
   "cell_type": "markdown",
   "metadata": {},
   "source": [
    "## reverse"
   ]
  },
  {
   "cell_type": "code",
   "execution_count": 10,
   "metadata": {},
   "outputs": [
    {
     "data": {
      "text/plain": [
       "[6, 5, 4, 3, 2]"
      ]
     },
     "execution_count": 10,
     "metadata": {},
     "output_type": "execute_result"
    }
   ],
   "source": [
    "f = [2,3,4,5,6]\n",
    "f.reverse()\n",
    "f\n"
   ]
  },
  {
   "cell_type": "markdown",
   "metadata": {},
   "source": [
    "## pop and remove"
   ]
  },
  {
   "cell_type": "code",
   "execution_count": 23,
   "metadata": {},
   "outputs": [
    {
     "name": "stdout",
     "output_type": "stream",
     "text": [
      "[40, 30, 50, 90]\n"
     ]
    },
    {
     "data": {
      "text/plain": [
       "[40, 30, 50]"
      ]
     },
     "execution_count": 23,
     "metadata": {},
     "output_type": "execute_result"
    }
   ],
   "source": [
    "f1 = [40,20,30,50,90]\n",
    "f1.pop(1) # uses index to remove element\n",
    "print(f1)\n",
    "f1.pop() # pops last element in case of no index provided\n",
    "f1"
   ]
  },
  {
   "cell_type": "code",
   "execution_count": 24,
   "metadata": {},
   "outputs": [
    {
     "data": {
      "text/plain": [
       "[40, 50]"
      ]
     },
     "execution_count": 24,
     "metadata": {},
     "output_type": "execute_result"
    }
   ],
   "source": [
    "f1.remove(30)# uses element itself to remove \n",
    "f1"
   ]
  },
  {
   "cell_type": "markdown",
   "metadata": {},
   "source": [
    "## slicing"
   ]
  },
  {
   "cell_type": "code",
   "execution_count": 18,
   "metadata": {},
   "outputs": [
    {
     "name": "stdout",
     "output_type": "stream",
     "text": [
      "printing 0:5 [1, 2, 3, 7, 4]\n",
      "printing -5 : -1 [3, 7, 4, 8]\n"
     ]
    }
   ],
   "source": [
    "#upper bound element excluded(n-1)\n",
    "# always goes from left to right\n",
    "\n",
    "lis = [1,2,3,7,4,8,90]\n",
    "\n",
    "print('printing 0:5',  lis[0:5])\n",
    "print('printing -5 : -1', lis[-5:-1])"
   ]
  },
  {
   "cell_type": "code",
   "execution_count": 31,
   "metadata": {},
   "outputs": [
    {
     "name": "stdout",
     "output_type": "stream",
     "text": [
      "['a', 'o']\n",
      "['k', 'o']\n"
     ]
    },
    {
     "data": {
      "text/plain": [
       "['k', 'm', 'l']"
      ]
     },
     "execution_count": 31,
     "metadata": {},
     "output_type": "execute_result"
    }
   ],
   "source": [
    "lis = ['k', 'o', 'm', 'a', 'l', 'v']\n",
    "print(lis[3::-2]) #[LB : UB :STEPSIZE]   # (-)stepsize moves from right to left\n",
    "lis[:]\n",
    "lis[1:]\n",
    "print(lis[:2])\n",
    "lis[::2]"
   ]
  },
  {
   "cell_type": "code",
   "execution_count": 36,
   "metadata": {},
   "outputs": [
    {
     "data": {
      "text/plain": [
       "[4, 6]"
      ]
     },
     "execution_count": 36,
     "metadata": {},
     "output_type": "execute_result"
    }
   ],
   "source": [
    "lis = [3,4,5,6,7,8,9]\n",
    "lis[-4:-1]\n",
    "lis[-1:-4]\n",
    "lis[1:4:2]"
   ]
  },
  {
   "cell_type": "code",
   "execution_count": 28,
   "metadata": {},
   "outputs": [
    {
     "data": {
      "text/plain": [
       "[6]"
      ]
     },
     "execution_count": 28,
     "metadata": {},
     "output_type": "execute_result"
    }
   ],
   "source": [
    "a = [[1,2],[45,[25,56,38],43],89,[78,9,[6]]]\n",
    "#print 56\n",
    "# a[1][1][1]\n",
    "a[3][2]"
   ]
  },
  {
   "cell_type": "code",
   "execution_count": 29,
   "metadata": {},
   "outputs": [
    {
     "data": {
      "text/plain": [
       "[56, 38]"
      ]
     },
     "execution_count": 29,
     "metadata": {},
     "output_type": "execute_result"
    }
   ],
   "source": [
    "a[1][1][1:]"
   ]
  },
  {
   "cell_type": "code",
   "execution_count": 30,
   "metadata": {},
   "outputs": [
    {
     "data": {
      "text/plain": [
       "[1, 2, 3, 4, 5, 3, 4, 5, 67, 7, 5, 4, 6, 7]"
      ]
     },
     "execution_count": 30,
     "metadata": {},
     "output_type": "execute_result"
    }
   ],
   "source": [
    "lis1 = [1,2,3,4,5]\n",
    "lis2 = [3,4,5,67,7]\n",
    "lis3 = [5,4,6,7]\n",
    "\n",
    "n = lis1+lis2+lis3\n",
    "n"
   ]
  },
  {
   "cell_type": "markdown",
   "metadata": {},
   "source": [
    "## 3. DELETE ELEMENTS"
   ]
  },
  {
   "cell_type": "code",
   "execution_count": 31,
   "metadata": {},
   "outputs": [
    {
     "name": "stdout",
     "output_type": "stream",
     "text": [
      "after deleting element the updated list is:  [2, 4, 5, 4]\n"
     ]
    }
   ],
   "source": [
    "# indexvise\n",
    "list1 = [2,4,3,5,4]\n",
    "del list1[2]\n",
    "print(\"after deleting element the updated list is: \", list1)"
   ]
  },
  {
   "cell_type": "markdown",
   "metadata": {},
   "source": [
    "## 4. COUNT"
   ]
  },
  {
   "cell_type": "code",
   "execution_count": 17,
   "metadata": {},
   "outputs": [
    {
     "name": "stdout",
     "output_type": "stream",
     "text": [
      "2\n"
     ]
    }
   ],
   "source": [
    "# tells abt the occurences in the list\n",
    "alist = ['komal','vats','loves','pizza','pizza']\n",
    "print(alist.count('pizza'))\n"
   ]
  },
  {
   "cell_type": "markdown",
   "metadata": {},
   "source": [
    "## 5. INSERT"
   ]
  },
  {
   "cell_type": "code",
   "execution_count": 6,
   "metadata": {},
   "outputs": [
    {
     "name": "stdout",
     "output_type": "stream",
     "text": [
      "['rihana', 'komal', 'ria', 'india', 5, 2, 'laptop']\n"
     ]
    },
    {
     "data": {
      "text/plain": [
       "7"
      ]
     },
     "execution_count": 6,
     "metadata": {},
     "output_type": "execute_result"
    }
   ],
   "source": [
    "'''\n",
    "The insert() method can add an element at a given position in the list. \n",
    "Thus, unlike append(), it can add elements at any position but like append(), it can add only one element at a time.\n",
    "This method takes two arguments.\n",
    "The first argument specifies the position and the second argument specifies the element to be inserted.\n",
    "'''\n",
    "mylist = ['komal','ria','india',5,2,'laptop']\n",
    "mylist.insert(0,'rihana')\n",
    "print(mylist)\n",
    "len(mylist)"
   ]
  },
  {
   "cell_type": "code",
   "execution_count": 22,
   "metadata": {},
   "outputs": [
    {
     "data": {
      "text/plain": [
       "3"
      ]
     },
     "execution_count": 22,
     "metadata": {},
     "output_type": "execute_result"
    }
   ],
   "source": [
    "len((1,2,3)) # works for lists, tuples, strings"
   ]
  },
  {
   "cell_type": "markdown",
   "metadata": {},
   "source": [
    "# SORT"
   ]
  },
  {
   "cell_type": "code",
   "execution_count": 3,
   "metadata": {},
   "outputs": [
    {
     "name": "stdout",
     "output_type": "stream",
     "text": [
      "[3, 4, 5, 6, 6, 9]\n"
     ]
    }
   ],
   "source": [
    "mylis1 = [4,3,9,5,6,6]\n",
    "mylis1.sort()\n",
    "print(mylis1)"
   ]
  },
  {
   "cell_type": "markdown",
   "metadata": {},
   "source": [
    "# COPY"
   ]
  },
  {
   "cell_type": "code",
   "execution_count": 1,
   "metadata": {},
   "outputs": [
    {
     "name": "stdout",
     "output_type": "stream",
     "text": [
      "[1, 2, 3, 4, 5] [1, 2, 3, 4, 5]\n"
     ]
    }
   ],
   "source": [
    "# 1\n",
    "a = [1,2,3,4,5]\n",
    "b = a[:]\n",
    "# a.pop()\n",
    "print(a,b)"
   ]
  },
  {
   "cell_type": "code",
   "execution_count": 35,
   "metadata": {},
   "outputs": [
    {
     "name": "stdout",
     "output_type": "stream",
     "text": [
      "[1, 2, 3] [1, 2, 3, 4]\n"
     ]
    }
   ],
   "source": [
    "# 2\n",
    "import copy\n",
    "c = copy.copy(a)\n",
    "a.pop()\n",
    "print(a,c)\n"
   ]
  },
  {
   "cell_type": "markdown",
   "metadata": {},
   "source": [
    "## EXTEND"
   ]
  },
  {
   "cell_type": "code",
   "execution_count": null,
   "metadata": {},
   "outputs": [],
   "source": [
    "'''\n",
    "The extend() method is used to add more than one element at the end of the list.\n",
    "Although it can add more than one element unlike append(), it adds them at the end of the list like append().\n",
    "   \n",
    "'''"
   ]
  },
  {
   "cell_type": "code",
   "execution_count": 3,
   "metadata": {},
   "outputs": [
    {
     "data": {
      "text/plain": [
       "[1, 2, 3, 4, 5, 3, 4, 5, 67, 7]"
      ]
     },
     "execution_count": 3,
     "metadata": {},
     "output_type": "execute_result"
    }
   ],
   "source": [
    "lis1 = [1,2,3,4,5]\n",
    "lis2 = [3,4,5,67,7]\n",
    "lis3 = [5,4,6,7]\n",
    "\n",
    "lis1.extend(lis2)\n",
    "lis1"
   ]
  },
  {
   "cell_type": "code",
   "execution_count": 10,
   "metadata": {},
   "outputs": [
    {
     "data": {
      "text/plain": [
       "['edd', 'ekk', 'egg', 2, 4, 5]"
      ]
     },
     "execution_count": 10,
     "metadata": {},
     "output_type": "execute_result"
    }
   ],
   "source": [
    "list5 = ['edd','ekk','egg']\n",
    "list5.extend([2,4,5]);list5\n"
   ]
  },
  {
   "cell_type": "code",
   "execution_count": 6,
   "metadata": {},
   "outputs": [
    {
     "name": "stdout",
     "output_type": "stream",
     "text": [
      "['ram', 4, 5, 6, 7]\n",
      "['ram', 4, 5, 6, 7, 8]\n"
     ]
    }
   ],
   "source": [
    "myList = ['ram']\n",
    "myList.extend([4, 5, 6]);myList\n",
    "# for i in range(7, 9):\n",
    "#     myList.append(i)\n",
    "#     print(myList)"
   ]
  },
  {
   "cell_type": "code",
   "execution_count": 32,
   "metadata": {},
   "outputs": [
    {
     "name": "stdout",
     "output_type": "stream",
     "text": [
      "100\n",
      "200\n",
      "300\n",
      "400\n"
     ]
    }
   ],
   "source": [
    "# append and for loops\n",
    "lis1 = [1,2,3,4]\n",
    "for value in lis1:\n",
    "    value *= 100\n",
    "    print(value)\n"
   ]
  },
  {
   "cell_type": "code",
   "execution_count": 15,
   "metadata": {},
   "outputs": [
    {
     "data": {
      "text/plain": [
       "[200, 300, 400, 500]"
      ]
     },
     "execution_count": 15,
     "metadata": {},
     "output_type": "execute_result"
    }
   ],
   "source": [
    "lis2 = [2,3,4,5]\n",
    "lis3 = []\n",
    "\n",
    "for value in lis2:\n",
    "    lis3.append(value*100)\n",
    "lis3    "
   ]
  },
  {
   "cell_type": "code",
   "execution_count": 16,
   "metadata": {},
   "outputs": [
    {
     "name": "stdout",
     "output_type": "stream",
     "text": [
      "red apple\n",
      "red banana\n",
      "red cherry\n",
      "big apple\n",
      "big banana\n",
      "big cherry\n",
      "tasty apple\n",
      "tasty banana\n",
      "tasty cherry\n"
     ]
    }
   ],
   "source": [
    "adj = [\"red\", \"big\", \"tasty\"]\n",
    "fruits = [\"apple\", \"banana\", \"cherry\"]\n",
    "for i in adj:\n",
    "    for j in fruits:\n",
    "        print(i,j)\n",
    "# inner loops will execute fully then only only it goes to complete\n",
    "# outer loop\n",
    "# [i for i in adj]\n",
    "# [j for j in fruits]\n",
    "# [(i,j) for i in adj for j in fruits]\n",
    "# shuru me i jo h vo print krne k liye k kya print krna\n",
    "# these are called one liners or list comprehensions\n",
    "\n"
   ]
  },
  {
   "cell_type": "code",
   "execution_count": 17,
   "metadata": {},
   "outputs": [
    {
     "name": "stdout",
     "output_type": "stream",
     "text": [
      "new list :  [1, 4, 9, 16]\n"
     ]
    }
   ],
   "source": [
    "inp = [1,2,3,4]\n",
    "#oup = [1,4,9,16]\n",
    "h = []\n",
    "for i in inp:\n",
    "    h.append(i**2)\n",
    "print(\"new list : \", h)    "
   ]
  },
  {
   "cell_type": "code",
   "execution_count": 18,
   "metadata": {},
   "outputs": [
    {
     "data": {
      "text/plain": [
       "[1, 4, 9, 16]"
      ]
     },
     "execution_count": 18,
     "metadata": {},
     "output_type": "execute_result"
    }
   ],
   "source": [
    "lis = [1,2,3,4]\n",
    "[value ** 2 for value in lis]"
   ]
  },
  {
   "cell_type": "code",
   "execution_count": 37,
   "metadata": {},
   "outputs": [
    {
     "data": {
      "text/plain": [
       "[0, 2, 4, 6, 8, 10]"
      ]
     },
     "execution_count": 37,
     "metadata": {},
     "output_type": "execute_result"
    }
   ],
   "source": [
    "# range function\n",
    "#range(start = 0(optional), stop, step = 1(optional) bydefault 1))\n",
    "# list(range(-1,-1,-1))\n",
    "list(range(0,11,2))"
   ]
  },
  {
   "cell_type": "code",
   "execution_count": 35,
   "metadata": {},
   "outputs": [
    {
     "data": {
      "text/plain": [
       "[0, 2, 4, 6, 8, 10, 12, 14, 16, 18, 20]"
      ]
     },
     "execution_count": 35,
     "metadata": {},
     "output_type": "execute_result"
    }
   ],
   "source": [
    "# h = []\n",
    "# for i in range(0,21,2):\n",
    "#    h.append(i+2)\n",
    "# print(h)\n",
    "h = []\n",
    "[h.append(i+2) for i in range(0,21,2)]\n",
    "h"
   ]
  },
  {
   "cell_type": "code",
   "execution_count": 19,
   "metadata": {},
   "outputs": [
    {
     "data": {
      "text/plain": [
       "5"
      ]
     },
     "execution_count": 19,
     "metadata": {},
     "output_type": "execute_result"
    }
   ],
   "source": [
    "#finding names in list\n",
    "colors = [\"red\", \"yellow\", \"blue\" ,\"green\", \"purple\"]\n",
    "# for i in range(len(colors)):      #give length in range for strings alwyas unlike integers\n",
    "#      print(\"the value at index\", i, \"==\", colors[i])\n",
    "#      print(colors[i])\n",
    "len(colors)"
   ]
  },
  {
   "cell_type": "code",
   "execution_count": 13,
   "metadata": {},
   "outputs": [
    {
     "name": "stdout",
     "output_type": "stream",
     "text": [
      "red\n",
      "yellow\n",
      "blue\n",
      "green\n",
      "purple\n"
     ]
    }
   ],
   "source": [
    "colors = [\"red\", \"yellow\", \"blue\" ,\"green\", \"purple\"]\n",
    "for i in colors:\n",
    "    print(i)"
   ]
  },
  {
   "cell_type": "code",
   "execution_count": 11,
   "metadata": {},
   "outputs": [
    {
     "name": "stdout",
     "output_type": "stream",
     "text": [
      "value at index: 0 == red\n",
      "value at index: 1 == yellow\n",
      "value at index: 2 == blue\n",
      "value at index: 3 == green\n",
      "value at index: 4 == purple\n"
     ]
    }
   ],
   "source": [
    "colors = [\"red\", \"yellow\", \"blue\" ,\"green\", \"purple\"]\n",
    "for value in colors:\n",
    "    #print(value)\n",
    "    ind = colors.index(value)\n",
    "    print(\"value at index:\" , ind, \"==\", value)\n",
    "########################################\n",
    "\n"
   ]
  },
  {
   "cell_type": "code",
   "execution_count": 10,
   "metadata": {},
   "outputs": [
    {
     "name": "stdout",
     "output_type": "stream",
     "text": [
      "red has 3 letters\n",
      "yellow has 6 letters\n",
      "blue has 4 letters\n",
      "green has 5 letters\n",
      "purple has 6 letters\n"
     ]
    }
   ],
   "source": [
    "colors = [\"red\", \"yellow\", \"blue\" ,\"green\", \"purple\"]\n",
    "for value in colors:\n",
    "#     print(\"red has 3 letters\")\n",
    "    print(value, 'has', len(value),'letters')"
   ]
  },
  {
   "cell_type": "code",
   "execution_count": 3,
   "metadata": {},
   "outputs": [
    {
     "data": {
      "text/plain": [
       "3"
      ]
     },
     "execution_count": 3,
     "metadata": {},
     "output_type": "execute_result"
    }
   ],
   "source": [
    "len('red')"
   ]
  },
  {
   "cell_type": "markdown",
   "metadata": {},
   "source": [
    "# Enumerate"
   ]
  },
  {
   "cell_type": "code",
   "execution_count": 28,
   "metadata": {
    "scrolled": true
   },
   "outputs": [
    {
     "name": "stdout",
     "output_type": "stream",
     "text": [
      "index is 0 \t value is 23\n",
      "index is 1 \t value is 45\n",
      "index is 2 \t value is 23\n",
      "index is 3 \t value is 54\n",
      "index is 4 \t value is 76\n",
      "index is 5 \t value is 81\n"
     ]
    }
   ],
   "source": [
    "k = [23,45,23,54,76,81]\n",
    "\n",
    "for index,value in enumerate(k):\n",
    "    print(\"index is\", index, \"\\t\", \"value is\", value)"
   ]
  },
  {
   "cell_type": "code",
   "execution_count": 48,
   "metadata": {},
   "outputs": [
    {
     "name": "stdout",
     "output_type": "stream",
     "text": [
      "[(0, 'aka'), (1, 'erf'), (2, 'dgf'), (3, 'ferd'), (4, 10), (5, 10.3), (6, '53')]\n"
     ]
    }
   ],
   "source": [
    "a = ['aka', 'erf', 'dgf', 'ferd', 10, 10.3, '53']\n",
    "# for i,j in enumerate(a):\n",
    "#         print(i, j)\n",
    "\n",
    "#or\n",
    "print(list(enumerate(a)))    #fetches output in list format in horizontal \n",
    "# [print(i,j) for i,j in enumerate(a)]        "
   ]
  },
  {
   "cell_type": "code",
   "execution_count": 31,
   "metadata": {},
   "outputs": [
    {
     "data": {
      "text/plain": [
       "[('geek', 'eats'), ('geek', 'sleeps'), ('geek', 'rests')]"
      ]
     },
     "execution_count": 31,
     "metadata": {},
     "output_type": "execute_result"
    }
   ],
   "source": [
    "# s1 = ['geek']\n",
    "# g1 = ['eats','sleeps','rests']\n",
    "# for i in s1:\n",
    "#     for j in g1:\n",
    "#         print(i,j)\n",
    "        \n",
    "[(i,j) for j in g1 for i in s1]        "
   ]
  },
  {
   "cell_type": "code",
   "execution_count": 37,
   "metadata": {},
   "outputs": [
    {
     "name": "stdout",
     "output_type": "stream",
     "text": [
      "((0, 'geeks'), (1, 'are'), (2, 'koooool'), (3, 'ppl'))\n"
     ]
    }
   ],
   "source": [
    "list1 = ['geeks','are','koooool','ppl']\n",
    "print(tuple(enumerate(list1)))"
   ]
  },
  {
   "cell_type": "code",
   "execution_count": null,
   "metadata": {},
   "outputs": [],
   "source": [
    "[print(i,j) for i,j in enumerate(a)] \n",
    "a"
   ]
  },
  {
   "cell_type": "code",
   "execution_count": 13,
   "metadata": {},
   "outputs": [
    {
     "name": "stdout",
     "output_type": "stream",
     "text": [
      "[(0, 11), (1, 2), (2, 333), (3, 455), (4, 666)] \n",
      "\n",
      "[(10, 11), (11, 2), (12, 333), (13, 455), (14, 666)]\n"
     ]
    }
   ],
   "source": [
    "g = [11,2,333,455,666]\n",
    "\n",
    "print(list(enumerate(g)), '\\n')\n",
    "print(list(enumerate(g,10))) # kahi se bhi indendex shurukrne k liye"
   ]
  },
  {
   "cell_type": "code",
   "execution_count": 23,
   "metadata": {
    "scrolled": true
   },
   "outputs": [
    {
     "name": "stdout",
     "output_type": "stream",
     "text": [
      "11\n",
      "2\n",
      "333\n",
      "455\n",
      "666\n"
     ]
    }
   ],
   "source": [
    "lis = list(enumerate(g))\n",
    "for number in lis:\n",
    "    print(number[1])\n",
    "    \n",
    "    "
   ]
  },
  {
   "cell_type": "markdown",
   "metadata": {},
   "source": [
    "# For loop\n"
   ]
  },
  {
   "cell_type": "code",
   "execution_count": 21,
   "metadata": {},
   "outputs": [
    {
     "name": "stdout",
     "output_type": "stream",
     "text": [
      "100\n",
      "(0, 100)\n",
      "200\n",
      "(1, 200)\n",
      "300\n",
      "(2, 300)\n",
      "400\n",
      "(3, 400)\n"
     ]
    },
    {
     "data": {
      "text/plain": [
       "[(0, 100), (1, 200), (2, 300), (3, 400)]"
      ]
     },
     "execution_count": 21,
     "metadata": {},
     "output_type": "execute_result"
    }
   ],
   "source": [
    "g = [100,200,300,400]\n",
    "h = list(enumerate(g))\n",
    "h\n",
    "\n",
    "for i in h:\n",
    "    print(i[1])\n",
    "    print(i)\n",
    "h "
   ]
  },
  {
   "cell_type": "code",
   "execution_count": 3,
   "metadata": {},
   "outputs": [
    {
     "name": "stdout",
     "output_type": "stream",
     "text": [
      "2\n",
      "3\n",
      "4\n"
     ]
    }
   ],
   "source": [
    "lis = [1,2,3,4,5, 'apple', 'girl']\n",
    "for i in lis[1:4]:\n",
    "    print(i)"
   ]
  },
  {
   "cell_type": "code",
   "execution_count": 39,
   "metadata": {},
   "outputs": [
    {
     "name": "stdout",
     "output_type": "stream",
     "text": [
      "Apple   \n",
      "Asus   \n",
      "Dell   \n",
      "Samsung   \n"
     ]
    }
   ],
   "source": [
    "computer_brands = [\"Apple\", \"Asus\", \"Dell\", \"Samsung\"]\n",
    "i = 0\n",
    "while i < len(computer_brands):\n",
    "    print(computer_brands[i], end = '  ')\n",
    "    print(' ')\n",
    "    i =i+1\n",
    "    continue\n"
   ]
  },
  {
   "cell_type": "markdown",
   "metadata": {},
   "source": [
    "# if else"
   ]
  },
  {
   "cell_type": "code",
   "execution_count": null,
   "metadata": {},
   "outputs": [],
   "source": [
    "if 10<2:\n",
    "    print(\"true\")\n",
    "else:\n",
    "    print(\"false\")"
   ]
  },
  {
   "cell_type": "code",
   "execution_count": null,
   "metadata": {},
   "outputs": [],
   "source": [
    "l = [1,2,3,4,5]\n",
    "b = []\n",
    "\n",
    "for v in l:\n",
    "    if v == 1:\n",
    "        b.append(\"one\")\n",
    "    elif v == 2:\n",
    "        b.append('two')\n",
    "    elif v == 3:\n",
    "        b.append('three')\n",
    "    elif( v==7):\n",
    "        b.append('tr')\n",
    "    else:\n",
    "        b.append(\"last\")\n",
    "print(b)        "
   ]
  },
  {
   "cell_type": "code",
   "execution_count": 50,
   "metadata": {},
   "outputs": [
    {
     "name": "stdout",
     "output_type": "stream",
     "text": [
      "[20, 40, 60]\n",
      "[11, 33, 55]\n"
     ]
    }
   ],
   "source": [
    "odd = []\n",
    "even = []\n",
    "\n",
    "# for values in range(1,20):\n",
    "#     if values % 2 == 0:\n",
    "#         even.append(values)\n",
    "        \n",
    "#     else:\n",
    "#         odd.append(values)\n",
    "# print(even)\n",
    "# print(odd)\n",
    "\n",
    "# how to find odd even in alist and store into other\n",
    "list_1 = [11,20,33,40,55,60]\n",
    "for i in list_1:\n",
    "    if i%2 == 0:\n",
    "        even.append(i)\n",
    "    else:\n",
    "        odd.append(i)\n",
    "        \n",
    "print(even)\n",
    "print(odd)"
   ]
  },
  {
   "cell_type": "code",
   "execution_count": 50,
   "metadata": {},
   "outputs": [
    {
     "name": "stdout",
     "output_type": "stream",
     "text": [
      "[(0, 'even'), (1, 'odd'), (2, 'even'), (3, 'odd'), (4, 'even'), (5, 'odd'), (6, 'even'), (7, 'odd'), (8, 'even')]\n",
      "[(0, 'even'), (2, 'even'), (4, 'even'), (6, 'even'), (8, 'even')]\n"
     ]
    }
   ],
   "source": [
    "print([(i, 'even') if i%2 == 0 else (i, \"odd\") for i in range(0,9)])\n",
    "print([(i, 'even') for i in range(0,9) if i%2 == 0])"
   ]
  },
  {
   "cell_type": "markdown",
   "metadata": {},
   "source": [
    "# while"
   ]
  },
  {
   "cell_type": "code",
   "execution_count": 24,
   "metadata": {},
   "outputs": [
    {
     "name": "stdout",
     "output_type": "stream",
     "text": [
      "infinite loop\n"
     ]
    }
   ],
   "source": [
    "#We generally use this loop when we don't know the number of times to iterate beforehand\n",
    "i = 2\n",
    "\n",
    "while i < 5:\n",
    "    print(\"infinite loop\")\n",
    "    break"
   ]
  },
  {
   "cell_type": "code",
   "execution_count": null,
   "metadata": {},
   "outputs": [],
   "source": [
    "''' \n",
    "We need to increase the value of the counter variable in the body of the loop. \n",
    "This is very important (and mostly forgotten).\n",
    "Failing to do so will result in an infinite loop (never-ending loop).\n",
    "'''"
   ]
  },
  {
   "cell_type": "code",
   "execution_count": 8,
   "metadata": {},
   "outputs": [
    {
     "name": "stdout",
     "output_type": "stream",
     "text": [
      "21 more\n",
      "3 less\n",
      "4\n",
      "4 less\n",
      "5\n",
      "5 more\n",
      "4 less\n",
      "5\n",
      "5 more\n",
      "5 more\n",
      "6\n"
     ]
    }
   ],
   "source": [
    "g = [21,3,4,5]\n",
    "\n",
    "for i in g:\n",
    "    while i<5:\n",
    "        print(i, \"less\")\n",
    "        i +=1\n",
    "        print(i)\n",
    "    if  i == 8:\n",
    "        break\n",
    "    else :\n",
    "        print(i,\"more\")\n",
    "        i +=1\n",
    "print (i)        \n"
   ]
  },
  {
   "cell_type": "code",
   "execution_count": 52,
   "metadata": {},
   "outputs": [
    {
     "data": {
      "text/plain": [
       "[1, 2, 4, 5, 6]"
      ]
     },
     "execution_count": 52,
     "metadata": {},
     "output_type": "execute_result"
    }
   ],
   "source": [
    "# continue is used when we want to skip a particular condition\n",
    "h = []\n",
    "i = 0\n",
    "while i<6:\n",
    "    i += 1\n",
    "    if i == 3:\n",
    "        continue\n",
    "    else:\n",
    "        h.append(i)\n",
    "h        "
   ]
  },
  {
   "cell_type": "code",
   "execution_count": 11,
   "metadata": {},
   "outputs": [
    {
     "name": "stdout",
     "output_type": "stream",
     "text": [
      "pass happpend\n"
     ]
    },
    {
     "data": {
      "text/plain": [
       "[23, 33, 45, 12, 13]"
      ]
     },
     "execution_count": 11,
     "metadata": {},
     "output_type": "execute_result"
    }
   ],
   "source": [
    "'''\n",
    "pass allows to pass on another value\n",
    "diff in continue n pass: pass allows to do any operation after pass.\n",
    "whereas in continue nothing is being printed below it and control is moved to other block\n",
    "'''\n",
    "\n",
    "\n",
    "h = []\n",
    "age = [23,33,45,65,12,13]\n",
    "\n",
    "for i in age:\n",
    "    if i > 50:\n",
    "        pass\n",
    "        #continue\n",
    "        print(\"pass happpend\")\n",
    "    else:\n",
    "        h.append(i)\n",
    "h  "
   ]
  },
  {
   "cell_type": "code",
   "execution_count": 2,
   "metadata": {},
   "outputs": [
    {
     "name": "stdout",
     "output_type": "stream",
     "text": [
      "30 120\n",
      "89.5\n"
     ]
    }
   ],
   "source": [
    "data = input()\n",
    "data = data.split(\" \")\n",
    "amt = int(data[0])\n",
    "bal = float(data[1])\n",
    "if amt%5==0 and bal>=amt+0.5:\n",
    "    bal = bal-amt-0.5\n",
    "print(bal)"
   ]
  },
  {
   "cell_type": "code",
   "execution_count": null,
   "metadata": {},
   "outputs": [],
   "source": [
    "tup"
   ]
  },
  {
   "cell_type": "markdown",
   "metadata": {},
   "source": [
    "# string operations\n",
    "### Strings are immutable. This means that elements of a string cannot be changed once they have been assigned. We can simply reassign different strings to the same name.\n",
    "\n",
    "### We cannot delete or remove characters from a string. But deleting the string entirely is possible using the del keyword."
   ]
  },
  {
   "cell_type": "code",
   "execution_count": 58,
   "metadata": {},
   "outputs": [],
   "source": [
    "str1 = '\"komal\"'\n",
    "#str1[1] = 'y'\n",
    "\n",
    "str1 = \"kia\";str1\n",
    "\n",
    "del str1"
   ]
  },
  {
   "cell_type": "code",
   "execution_count": 60,
   "metadata": {},
   "outputs": [
    {
     "data": {
      "text/plain": [
       "False"
      ]
     },
     "execution_count": 60,
     "metadata": {},
     "output_type": "execute_result"
    }
   ],
   "source": [
    "# String Membership Test\n",
    "# We can test if a substring exists within a string or not, using the keyword in.\n",
    "\n",
    "str1 = \"rohan\"\n",
    "'o' in str1\n",
    "'k' in str1"
   ]
  },
  {
   "cell_type": "code",
   "execution_count": 1,
   "metadata": {},
   "outputs": [
    {
     "name": "stdout",
     "output_type": "stream",
     "text": [
      "He said, \"What's there?\"\n",
      "He said, \"What's there?\"\n",
      "He said, \"What's there?\"\n"
     ]
    }
   ],
   "source": [
    "'''\n",
    "An escape sequence starts with a backslash and is interpreted differently. \n",
    "If we use a single quote to represent a string, all the single quotes inside the string must be escaped.\n",
    "Similar is the case with double quotes. Here is how it can be done to represent the above text.\n",
    "\n",
    "Put a backslash before the quote that you wish to have in your text.\n",
    "'''\n",
    "# using triple quotes\n",
    "print('''He said, \"What's there?\"''')\n",
    "\n",
    "# escaping single quotes\n",
    "print('He said, \"What\\'s there?\"')\n",
    "\n",
    "# escaping double quotes\n",
    "print(\"He said, \\\"What's there?\\\"\")\n"
   ]
  },
  {
   "cell_type": "code",
   "execution_count": 62,
   "metadata": {},
   "outputs": [
    {
     "name": "stdout",
     "output_type": "stream",
     "text": [
      "This is a \n",
      "good example\n",
      "This is \\x61 \\ngood example\n"
     ]
    }
   ],
   "source": [
    "'''Raw String to ignore escape sequence\n",
    "Sometimes we may wish to ignore the escape sequences inside a string.\n",
    "To do this we can place r or R in front of the string. \n",
    "This will imply that it is a raw string and any escape sequence inside it will be ignored.\n",
    "'''\n",
    "\n",
    "print(\"This is \\x61 \\ngood example\")\n",
    "\n",
    "print(r\"This is \\x61 \\ngood example\")\n"
   ]
  },
  {
   "cell_type": "code",
   "execution_count": 12,
   "metadata": {},
   "outputs": [
    {
     "data": {
      "text/plain": [
       "\"'jss', 'fgg', 'jss', 'bss','ass'\""
      ]
     },
     "execution_count": 12,
     "metadata": {},
     "output_type": "execute_result"
    }
   ],
   "source": [
    "#list does not have replace function hence only used in string operations\n",
    "a = \"'ass', 'fgg', 'ass', 'bss','ass'\"\n",
    "\n",
    "a1 = a.replace('ass', 'jss', 2)\n",
    "# older value, new value, no of reolacements to be done\n",
    "a1"
   ]
  },
  {
   "cell_type": "code",
   "execution_count": 51,
   "metadata": {},
   "outputs": [
    {
     "data": {
      "text/plain": [
       "['bss', 'fgg', 'bss', 'bss', 'bss']"
      ]
     },
     "execution_count": 51,
     "metadata": {},
     "output_type": "execute_result"
    }
   ],
   "source": [
    "a = ['ass', 'fgg', 'ass', 'bss','ass']\n",
    "\n",
    "for i in a:\n",
    "    if i == 'ass':\n",
    "        ind = a.index(i)\n",
    "        a[ind] = 'bss'            #a[0],a[1].......\n",
    "a        \n",
    "        \n",
    "#REMOVE removes only first occurence"
   ]
  },
  {
   "cell_type": "code",
   "execution_count": 52,
   "metadata": {},
   "outputs": [
    {
     "ename": "AttributeError",
     "evalue": "'list' object has no attribute 'replace'",
     "output_type": "error",
     "traceback": [
      "\u001b[1;31m---------------------------------------------------------------------------\u001b[0m",
      "\u001b[1;31mAttributeError\u001b[0m                            Traceback (most recent call last)",
      "\u001b[1;32m<ipython-input-52-a90e7d13a6cf>\u001b[0m in \u001b[0;36m<module>\u001b[1;34m\u001b[0m\n\u001b[0;32m      1\u001b[0m \u001b[1;32mfor\u001b[0m \u001b[0mi\u001b[0m \u001b[1;32min\u001b[0m \u001b[0ma\u001b[0m\u001b[1;33m:\u001b[0m\u001b[1;33m\u001b[0m\u001b[1;33m\u001b[0m\u001b[0m\n\u001b[0;32m      2\u001b[0m     \u001b[1;32mif\u001b[0m \u001b[0mi\u001b[0m \u001b[1;33m==\u001b[0m \u001b[1;34m'bss'\u001b[0m\u001b[1;33m:\u001b[0m\u001b[1;33m\u001b[0m\u001b[1;33m\u001b[0m\u001b[0m\n\u001b[1;32m----> 3\u001b[1;33m         \u001b[0ma\u001b[0m\u001b[1;33m.\u001b[0m\u001b[0mreplace\u001b[0m\u001b[1;33m(\u001b[0m\u001b[1;34m'bss'\u001b[0m\u001b[1;33m,\u001b[0m\u001b[1;34m'kss'\u001b[0m\u001b[1;33m)\u001b[0m\u001b[1;33m\u001b[0m\u001b[1;33m\u001b[0m\u001b[0m\n\u001b[0m\u001b[0;32m      4\u001b[0m         \u001b[0mprint\u001b[0m\u001b[1;33m(\u001b[0m\u001b[0ma\u001b[0m\u001b[1;33m)\u001b[0m\u001b[1;33m\u001b[0m\u001b[1;33m\u001b[0m\u001b[0m\n",
      "\u001b[1;31mAttributeError\u001b[0m: 'list' object has no attribute 'replace'"
     ]
    }
   ],
   "source": [
    "for i in a:\n",
    "    if i == 'bss':\n",
    "        a.replace('bss','kss')\n",
    "        print(a)"
   ]
  },
  {
   "cell_type": "code",
   "execution_count": 14,
   "metadata": {},
   "outputs": [
    {
     "data": {
      "text/plain": [
       "['HELLO,TH', 'E']"
      ]
     },
     "execution_count": 14,
     "metadata": {},
     "output_type": "execute_result"
    }
   ],
   "source": [
    "#split function separates the string from comma\n",
    "#####################\n",
    "s ='HELLO,THERE'#####\n",
    "s.split('ER')"
   ]
  },
  {
   "cell_type": "code",
   "execution_count": 15,
   "metadata": {},
   "outputs": [
    {
     "name": "stdout",
     "output_type": "stream",
     "text": [
      "['abc', 'gm.com']\n",
      "['abc', 'gm.com']\n",
      "['abc', 'gm.com']\n",
      "['abc', 'gm.com']\n",
      "['abc', 'gm.com']\n"
     ]
    }
   ],
   "source": [
    "\n",
    "h1 = 'abc@gm.com','abc@gm.com','abc@gm.com','abc@gm.com','abc@gm.com'\n",
    "\n",
    "for i in h1:\n",
    "    c = i.split('@')\n",
    "    print(c)\n",
    "#     print(c[1])\n",
    "\n"
   ]
  },
  {
   "cell_type": "markdown",
   "metadata": {},
   "source": [
    "# string functions"
   ]
  },
  {
   "cell_type": "code",
   "execution_count": 16,
   "metadata": {},
   "outputs": [
    {
     "name": "stdout",
     "output_type": "stream",
     "text": [
      "\n",
      " Upper:       SDFUIH@AOJOEJIOAC DHBEUICHHIUCV\n",
      "\n",
      " Lower:       sdfuih@aojoejioac dhbeuichhiucv\n",
      "\n",
      " Capitalize:  Sdfuih@aojoejioac dhbeuichhiucv\n",
      "\n",
      " swapcase:    SDFUIH@AOJOEJIOAC dhbeuichhiucv\n",
      "\n",
      " split:       ['sdfuih', 'aojoejioac DHBEUICHHIUCV']\n",
      "\n",
      " replace :    sdfuih@aojoejoiiiiiiac DHBEUICHHIUCV\n"
     ]
    }
   ],
   "source": [
    "s = 'sdfuih@aojoejioac DHBEUICHHIUCV'\n",
    "\n",
    "print('\\n Upper:      ',s.upper())\n",
    "\n",
    "print('\\n Lower:      ',s.lower())\n",
    "\n",
    "print('\\n Capitalize: ',s.capitalize())\n",
    "\n",
    "print('\\n swapcase:   ',s.swapcase())\n",
    "\n",
    "print('\\n split:      ', s.split('@'))\n",
    "\n",
    "print('\\n replace :   ', s.replace('jio', 'joiiiiii'))"
   ]
  },
  {
   "cell_type": "code",
   "execution_count": 18,
   "metadata": {},
   "outputs": [
    {
     "name": "stdout",
     "output_type": "stream",
     "text": [
      "AB\n",
      "CD\n"
     ]
    }
   ],
   "source": [
    "x = ['ab', 'cd']\n",
    "for i in x:\n",
    "    print(i.upper())"
   ]
  },
  {
   "cell_type": "markdown",
   "metadata": {},
   "source": [
    "# Sets"
   ]
  },
  {
   "cell_type": "code",
   "execution_count": 3,
   "metadata": {},
   "outputs": [
    {
     "name": "stdout",
     "output_type": "stream",
     "text": [
      "list [1, 2, 3, 4, 4, 4, 4, 5]\n",
      "set1 {1, 2, 3}\n",
      "set2 {1, 2, 3, 4, 5}\n",
      "set3 {1, 2, 3, 4, 5}\n"
     ]
    },
    {
     "data": {
      "text/plain": [
       "set"
      ]
     },
     "execution_count": 3,
     "metadata": {},
     "output_type": "execute_result"
    }
   ],
   "source": [
    "# unique values\n",
    "# unordered outputs\n",
    "list1 = [1,2,3,4,4,4,4,5]\n",
    "set1 = {1,2,3,3,3,3,3,3}\n",
    "set2 = set([1,2,3,4,4,4,4,5]) # type casting\n",
    "set3 = set(list1)\n",
    "\n",
    "print('list', list1)\n",
    "print('set1', set1)\n",
    "print('set2', set2)\n",
    "print('set3', set3)\n",
    "\n",
    "type(set3)"
   ]
  },
  {
   "cell_type": "code",
   "execution_count": 5,
   "metadata": {},
   "outputs": [
    {
     "name": "stdout",
     "output_type": "stream",
     "text": [
      "True\n"
     ]
    }
   ],
   "source": [
    "print(3 in list1)"
   ]
  },
  {
   "cell_type": "markdown",
   "metadata": {},
   "source": [
    "# Once set is created , you cannot change the items but can add items"
   ]
  },
  {
   "cell_type": "code",
   "execution_count": 20,
   "metadata": {},
   "outputs": [
    {
     "data": {
      "text/plain": [
       "{300, 'awsome', 'hello', 'is', 'komal', 'vats', 'you'}"
      ]
     },
     "execution_count": 20,
     "metadata": {},
     "output_type": "execute_result"
    }
   ],
   "source": [
    "set1 = {'komal','vats','is','awsome'}\n",
    "set1.add(300)\n",
    "set1\n",
    "set1.add('hello'); set1\n",
    "set1.add('you'); set1\n",
    "# add() only adds one element in the set at a time at random places"
   ]
  },
  {
   "cell_type": "markdown",
   "metadata": {},
   "source": [
    "# Update Set"
   ]
  },
  {
   "cell_type": "code",
   "execution_count": 5,
   "metadata": {},
   "outputs": [
    {
     "data": {
      "text/plain": [
       "{2, 4, 6, 'a', 'b', 'c', 'i', 'r', 't'}"
      ]
     },
     "execution_count": 5,
     "metadata": {},
     "output_type": "execute_result"
    }
   ],
   "source": [
    "# update() modifies the old set and adds n number of elements \n",
    "set1 = {'a', 'b', 'c', 2,4,6}\n",
    "set2 = {'d', 'a', 'b', 3,4,5,6}\n",
    "\n",
    "# set1.update(set2); set1\n",
    "set1.update({'r','a', 'b', 'b', 'i', 't'}); set1"
   ]
  },
  {
   "cell_type": "code",
   "execution_count": 6,
   "metadata": {},
   "outputs": [
    {
     "data": {
      "text/plain": [
       "{2, 4, 6, 'b', 'c', 'i', 'r', 't'}"
      ]
     },
     "execution_count": 6,
     "metadata": {},
     "output_type": "execute_result"
    }
   ],
   "source": [
    "set1.remove('a');set1"
   ]
  },
  {
   "cell_type": "code",
   "execution_count": 7,
   "metadata": {},
   "outputs": [
    {
     "ename": "TypeError",
     "evalue": "unhashable type: 'list'",
     "output_type": "error",
     "traceback": [
      "\u001b[1;31m---------------------------------------------------------------------------\u001b[0m",
      "\u001b[1;31mTypeError\u001b[0m                                 Traceback (most recent call last)",
      "\u001b[1;32m<ipython-input-7-e96a4398b977>\u001b[0m in \u001b[0;36m<module>\u001b[1;34m\u001b[0m\n\u001b[0;32m      1\u001b[0m \u001b[1;31m# a set cannot have mutale items like lists\u001b[0m\u001b[1;33m\u001b[0m\u001b[1;33m\u001b[0m\u001b[1;33m\u001b[0m\u001b[0m\n\u001b[0;32m      2\u001b[0m \u001b[1;33m\u001b[0m\u001b[0m\n\u001b[1;32m----> 3\u001b[1;33m \u001b[0mmyset\u001b[0m \u001b[1;33m=\u001b[0m \u001b[1;33m{\u001b[0m\u001b[1;36m1\u001b[0m\u001b[1;33m,\u001b[0m\u001b[1;36m2\u001b[0m\u001b[1;33m,\u001b[0m\u001b[1;36m3\u001b[0m\u001b[1;33m,\u001b[0m\u001b[1;33m[\u001b[0m\u001b[1;36m3\u001b[0m\u001b[1;33m,\u001b[0m\u001b[1;36m4\u001b[0m\u001b[1;33m]\u001b[0m\u001b[1;33m}\u001b[0m\u001b[1;33m;\u001b[0m\u001b[0mmyset\u001b[0m\u001b[1;33m\u001b[0m\u001b[1;33m\u001b[0m\u001b[0m\n\u001b[0m",
      "\u001b[1;31mTypeError\u001b[0m: unhashable type: 'list'"
     ]
    }
   ],
   "source": [
    "# a set cannot have mutale items like lists\n",
    "\n",
    "myset = {1,2,3,[3,4]};myset"
   ]
  },
  {
   "cell_type": "code",
   "execution_count": 8,
   "metadata": {},
   "outputs": [
    {
     "data": {
      "text/plain": [
       "set"
      ]
     },
     "execution_count": 8,
     "metadata": {},
     "output_type": "execute_result"
    }
   ],
   "source": [
    "# create empty set is tricky\n",
    "# a = {}\n",
    "# type(a)   # dictionary\n",
    "\n",
    "a = set()\n",
    "type(a)"
   ]
  },
  {
   "cell_type": "code",
   "execution_count": 3,
   "metadata": {},
   "outputs": [
    {
     "data": {
      "text/plain": [
       "{12, 2, 3, 9, 'a', 'i', 'komal', 'r', 'radha'}"
      ]
     },
     "execution_count": 3,
     "metadata": {},
     "output_type": "execute_result"
    }
   ],
   "source": [
    "# indexing not possible \n",
    "# myset = {12,3,4}\n",
    "#myset[0]\n",
    "\n",
    "myset = {12,3,2,3,3,9}\n",
    "myset.update(('komal','radha'), 'ria');myset"
   ]
  },
  {
   "cell_type": "code",
   "execution_count": 14,
   "metadata": {},
   "outputs": [
    {
     "ename": "KeyError",
     "evalue": "'hi'",
     "output_type": "error",
     "traceback": [
      "\u001b[1;31m---------------------------------------------------------------------------\u001b[0m",
      "\u001b[1;31mKeyError\u001b[0m                                  Traceback (most recent call last)",
      "\u001b[1;32m<ipython-input-14-93dba5905b98>\u001b[0m in \u001b[0;36m<module>\u001b[1;34m\u001b[0m\n\u001b[0;32m      2\u001b[0m \u001b[0mset1\u001b[0m\u001b[1;33m.\u001b[0m\u001b[0mdiscard\u001b[0m\u001b[1;33m(\u001b[0m\u001b[1;34m'hi'\u001b[0m\u001b[1;33m)\u001b[0m\u001b[1;33m;\u001b[0m \u001b[0mset1\u001b[0m\u001b[1;33m\u001b[0m\u001b[1;33m\u001b[0m\u001b[0m\n\u001b[0;32m      3\u001b[0m \u001b[1;31m# Remove - throws error if element not present in the set\u001b[0m\u001b[1;33m\u001b[0m\u001b[1;33m\u001b[0m\u001b[1;33m\u001b[0m\u001b[0m\n\u001b[1;32m----> 4\u001b[1;33m \u001b[0mset1\u001b[0m\u001b[1;33m.\u001b[0m\u001b[0mremove\u001b[0m\u001b[1;33m(\u001b[0m\u001b[1;34m'hi'\u001b[0m\u001b[1;33m)\u001b[0m\u001b[1;33m;\u001b[0m\u001b[0mset1\u001b[0m\u001b[1;33m\u001b[0m\u001b[1;33m\u001b[0m\u001b[0m\n\u001b[0m",
      "\u001b[1;31mKeyError\u001b[0m: 'hi'"
     ]
    }
   ],
   "source": [
    "# Discard - removes , also not throw error\n",
    "set1.discard('hi'); set1\n",
    "\n",
    "\n",
    "# Remove - throws error if element not present in the set(elemeent not present)\n",
    "## set1.remove('hi');set1"
   ]
  },
  {
   "cell_type": "code",
   "execution_count": 4,
   "metadata": {},
   "outputs": [],
   "source": [
    "# clear\n",
    "set1.clear()\n",
    "#delete\n",
    "del set2"
   ]
  },
  {
   "cell_type": "code",
   "execution_count": 16,
   "metadata": {},
   "outputs": [
    {
     "data": {
      "text/plain": [
       "{'hello', 'pretty', 'to', 'you'}"
      ]
     },
     "execution_count": 16,
     "metadata": {},
     "output_type": "execute_result"
    }
   ],
   "source": [
    "'''\n",
    "pop() removes the very first element each time and it is\n",
    "different each time dueto the property of sets, also it takes no argument\n",
    "''' \n",
    "set1 = {'hello', 'to', 'you', 'pretty', 'girl'}\n",
    "set1.pop();set1"
   ]
  },
  {
   "cell_type": "markdown",
   "metadata": {},
   "source": [
    "# SET OPERATIONS\n",
    "## Union"
   ]
  },
  {
   "cell_type": "code",
   "execution_count": 17,
   "metadata": {},
   "outputs": [
    {
     "data": {
      "text/plain": [
       "{0, 1, 100, 2, 200, 3, 300, 4, 5, 7, 8, 9, 'a', 'b'}"
      ]
     },
     "execution_count": 17,
     "metadata": {},
     "output_type": "execute_result"
    }
   ],
   "source": [
    "# union is the set of all elements in the final  set\n",
    "\n",
    "set1 = {1,2,3,4,5,5}\n",
    "set2 = {7, 8, 9,0,9}\n",
    "\n",
    "set3 = {100,200,300}\n",
    "set4 = {'a', 'b'}\n",
    "\n",
    "new_set = set1.union(set2, set3, set4);new_set\n",
    "neww_set = set1|set2|set3|set4 ; neww_set        # UNION"
   ]
  },
  {
   "cell_type": "markdown",
   "metadata": {},
   "source": [
    "##  Intersection"
   ]
  },
  {
   "cell_type": "code",
   "execution_count": 27,
   "metadata": {},
   "outputs": [
    {
     "data": {
      "text/plain": [
       "{5, 'a'}"
      ]
     },
     "execution_count": 27,
     "metadata": {},
     "output_type": "execute_result"
    }
   ],
   "source": [
    "# set of elements which are common \n",
    "\n",
    "set1 = {1,2,3,4,5,5, 'a'}\n",
    "set2 = {'a', 5}\n",
    "set3 = {4,5,6,43,'b','a'}\n",
    "set4 = {5, 'b', 'a'}\n",
    "        \n",
    "set5 = set1 & set2 & set3 & set4 ; set5   \n",
    "set6 = set1.intersection(set2, set3, set4); set6"
   ]
  },
  {
   "cell_type": "markdown",
   "metadata": {},
   "source": [
    "## Difference"
   ]
  },
  {
   "cell_type": "code",
   "execution_count": 20,
   "metadata": {},
   "outputs": [
    {
     "data": {
      "text/plain": [
       "{1, 2, 3, 4}"
      ]
     },
     "execution_count": 20,
     "metadata": {},
     "output_type": "execute_result"
    }
   ],
   "source": [
    "# (A-B):ALL ELEMENTS OF A AND NONE OF B(VICE VERSA)\n",
    "\n",
    "set1 = {1,2,3,4,5,5, 'a'}\n",
    "set2 = {'a', 5}\n",
    "set12 = set1.difference(set2);set12\n",
    "set12 = set1-set2;set12\n",
    "\n",
    "#set12 = set1-set2          #differnce\n",
    "#print(set21)"
   ]
  },
  {
   "cell_type": "markdown",
   "metadata": {},
   "source": [
    "## Symmetric_Difference"
   ]
  },
  {
   "cell_type": "code",
   "execution_count": 1,
   "metadata": {},
   "outputs": [
    {
     "data": {
      "text/plain": [
       "{1, 2, 3, 4}"
      ]
     },
     "execution_count": 1,
     "metadata": {},
     "output_type": "execute_result"
    }
   ],
   "source": [
    "# it is reverse of Intersection ie. elements of a and b both but not the common ones \n",
    "# unique elements\n",
    "set1 = {1,2,3,4,5,5, 'a'}\n",
    "set2 = {'a', 5}\n",
    "set3 = {1,4,6}\n",
    "\n",
    "set4 = set1.symmetric_difference(set2); set4\n",
    "#set4 = set1^set2^set3;set4\n",
    "\n"
   ]
  },
  {
   "cell_type": "code",
   "execution_count": 2,
   "metadata": {},
   "outputs": [
    {
     "name": "stdout",
     "output_type": "stream",
     "text": [
      "False\n"
     ]
    }
   ],
   "source": [
    "print(set3.issubset(set1))"
   ]
  },
  {
   "cell_type": "markdown",
   "metadata": {},
   "source": [
    "# OS MODULE"
   ]
  },
  {
   "cell_type": "code",
   "execution_count": 3,
   "metadata": {},
   "outputs": [
    {
     "data": {
      "text/plain": [
       "'C:\\\\Users\\\\admin\\\\Downloads\\\\python_sujata'"
      ]
     },
     "execution_count": 3,
     "metadata": {},
     "output_type": "execute_result"
    }
   ],
   "source": [
    "import os\n",
    "os.getcwd()"
   ]
  },
  {
   "cell_type": "markdown",
   "metadata": {},
   "source": [
    "# Dictionary"
   ]
  },
  {
   "cell_type": "markdown",
   "metadata": {},
   "source": [
    "# Recognized by curly brackets { }\n",
    "\n",
    "They are mutable and can be nested like list and tuples\n",
    "\n",
    "They have a key and value pair , so they are also called associative pair\n",
    "\n",
    "A given key can oly appear once in a dictionary and both key and value can be any data type - str,int,float,tuple,list\n",
    "\n",
    "Each and value is seperated by a colon( : )\n",
    "\n",
    "Dictionary are unordered so indexing does not work on it. Instead keys are treated as index. whereas list and tuples are ordered\n",
    "\n",
    "when we convert a dictionary to list or a tuple by list() then only keys come in list and tuple not the values\n",
    "\n",
    "concatenation cannot be done on dictionary\n"
   ]
  },
  {
   "cell_type": "code",
   "execution_count": 5,
   "metadata": {},
   "outputs": [
    {
     "data": {
      "text/plain": [
       "'black'"
      ]
     },
     "execution_count": 5,
     "metadata": {},
     "output_type": "execute_result"
    }
   ],
   "source": [
    "dict1 = {'name':'komal',\n",
    "        'age':21,\n",
    "        'hair': 'black',\n",
    "        'id':1.0}\n",
    "type(dict1)\n",
    "\n",
    "dict1.get('id')      # by key\n",
    "dict1['hair']       \n"
   ]
  },
  {
   "cell_type": "code",
   "execution_count": 8,
   "metadata": {},
   "outputs": [
    {
     "data": {
      "text/plain": [
       "{'name': 'komal', 'age': 21, 'hair': 'black', 'id': 1.0, 'sname': 'komalvats'}"
      ]
     },
     "execution_count": 8,
     "metadata": {},
     "output_type": "execute_result"
    }
   ],
   "source": [
    "dict1['sname'] = 'komalvats';dict1"
   ]
  },
  {
   "cell_type": "code",
   "execution_count": 42,
   "metadata": {},
   "outputs": [
    {
     "data": {
      "text/plain": [
       "{'name': 'kiara', 'age': 21, 'hair': 'black', 'id': 1.0}"
      ]
     },
     "execution_count": 42,
     "metadata": {},
     "output_type": "execute_result"
    }
   ],
   "source": [
    "# updating using key\n",
    "\n",
    "dict1 = {'name':'komal',\n",
    "        'age':21,\n",
    "        'hair': 'black',\n",
    "        'id':1.0}\n",
    "dict1['name'] = 'kiara'\n",
    "dict1\n"
   ]
  },
  {
   "cell_type": "code",
   "execution_count": 43,
   "metadata": {},
   "outputs": [
    {
     "data": {
      "text/plain": [
       "{'name': 'kiara', 'age': 21, 'hair': 'black', 'id': 1.0, 'place': 'Haryana'}"
      ]
     },
     "execution_count": 43,
     "metadata": {},
     "output_type": "execute_result"
    }
   ],
   "source": [
    "# adding a new value\n",
    "\n",
    "dict1['place'] = 'Delhi'\n",
    "dict1\n",
    "dict1['place'] = 'Haryana'; dict1"
   ]
  },
  {
   "cell_type": "code",
   "execution_count": 37,
   "metadata": {
    "scrolled": true
   },
   "outputs": [
    {
     "name": "stdout",
     "output_type": "stream",
     "text": [
      "kiara\n",
      "21\n",
      "black\n",
      "1.0\n",
      "name\n",
      "age\n",
      "hair\n",
      "id\n"
     ]
    }
   ],
   "source": [
    "for i in dict1:\n",
    "    print(dict1[i])         # to print values one by one\n",
    "    \n",
    "for i in dict1:\n",
    "    print(i)                # to print keys one by one"
   ]
  },
  {
   "cell_type": "code",
   "execution_count": 38,
   "metadata": {},
   "outputs": [
    {
     "name": "stdout",
     "output_type": "stream",
     "text": [
      "name : kiara\n",
      "age : 21\n",
      "hair : black\n",
      "id : 1.0\n",
      "name\n",
      "age\n",
      "hair\n",
      "id\n",
      "kiara\n",
      "21\n",
      "black\n",
      "1.0\n"
     ]
    }
   ],
   "source": [
    "for key, value in dict1.items():\n",
    "    print(key, ':', value)                 # .items( gives key value pair)\n",
    "    \n",
    "    \n",
    "for key in dict1.keys():                   # .keys(gives keys)\n",
    "    print(key)\n",
    "\n",
    "[key for key in dict1.keys()]\n",
    "\n",
    "\n",
    "for value in dict1.values():               # .values(gives values)\n",
    "    print(value)"
   ]
  },
  {
   "cell_type": "markdown",
   "metadata": {},
   "source": [
    "## Check if key exists"
   ]
  },
  {
   "cell_type": "code",
   "execution_count": 39,
   "metadata": {},
   "outputs": [
    {
     "name": "stdout",
     "output_type": "stream",
     "text": [
      "yes\n"
     ]
    }
   ],
   "source": [
    "if 'name' in dict1:\n",
    "    print('yes')"
   ]
  },
  {
   "cell_type": "markdown",
   "metadata": {},
   "source": [
    "## len()"
   ]
  },
  {
   "cell_type": "code",
   "execution_count": 40,
   "metadata": {},
   "outputs": [
    {
     "name": "stdout",
     "output_type": "stream",
     "text": [
      "4\n"
     ]
    }
   ],
   "source": [
    "# To determine how many items (key-value pairs) a dictionary has, use the len() function.\n",
    "\n",
    "print(len(dict1))"
   ]
  },
  {
   "cell_type": "code",
   "execution_count": 10,
   "metadata": {},
   "outputs": [
    {
     "data": {
      "text/plain": [
       "{'name': 'komal', 'age': 21, 'id': 1.0, 'sname': 'komalvats'}"
      ]
     },
     "execution_count": 10,
     "metadata": {},
     "output_type": "execute_result"
    }
   ],
   "source": [
    "# removes withspecified key name\n",
    "\n",
    "dict1.pop('hair');dict1"
   ]
  },
  {
   "cell_type": "code",
   "execution_count": 46,
   "metadata": {},
   "outputs": [
    {
     "data": {
      "text/plain": [
       "{'name': 'kiara', 'age': 21, 'hair': 'black'}"
      ]
     },
     "execution_count": 46,
     "metadata": {},
     "output_type": "execute_result"
    }
   ],
   "source": [
    "#The popitem() method removes the last inserted item \n",
    "\n",
    "dict1.popitem();dict1"
   ]
  },
  {
   "cell_type": "code",
   "execution_count": 13,
   "metadata": {},
   "outputs": [],
   "source": [
    "# del dict1['hair'];dict1\n",
    "del dict1                    # deletes whole dictionary too\n",
    "\n",
    "# clear dict1                  # empties the dictionary"
   ]
  },
  {
   "cell_type": "code",
   "execution_count": 15,
   "metadata": {},
   "outputs": [
    {
     "data": {
      "text/plain": [
       "{1: 'rohit', 'age': [23, 30, [50, 15, 17], 25, 30], 'hair': 'black', 'id': 1.0}"
      ]
     },
     "execution_count": 15,
     "metadata": {},
     "output_type": "execute_result"
    }
   ],
   "source": [
    "# changing the value of a key\n",
    "d = { 1 :['sam','bam','ham'], \n",
    "     'age' : [23,30,[50,15,17],25,30] , \n",
    "     'hair' : 'black' ,\n",
    "     'id' : 1.0}\n",
    "\n",
    "d[1] = 'rohit'  ;d\n",
    "# print(d[1])\n",
    "# d\n",
    "# d['age'][2][0]"
   ]
  },
  {
   "cell_type": "code",
   "execution_count": 51,
   "metadata": {},
   "outputs": [
    {
     "data": {
      "text/plain": [
       "{'name': 'komal',\n",
       " 'surname': 'vats',\n",
       " 'siblings': ['brother', 'sister'],\n",
       " 'parents': ['mother', 'father']}"
      ]
     },
     "execution_count": 51,
     "metadata": {},
     "output_type": "execute_result"
    }
   ],
   "source": [
    "dict2 = {'name':'komal',\n",
    "        'surname':'vats',\n",
    "        'siblings': ['brother', 'sister'],\n",
    "            'parents':['mother', 'father']}\n",
    "dict2"
   ]
  },
  {
   "cell_type": "code",
   "execution_count": 81,
   "metadata": {},
   "outputs": [
    {
     "data": {
      "text/plain": [
       "{'name': 'kiara',\n",
       " 'age': 21,\n",
       " 'hair': 'black',\n",
       " 'id': 1.0,\n",
       " 'country': 'india',\n",
       " 'seasons': 6}"
      ]
     },
     "execution_count": 81,
     "metadata": {},
     "output_type": "execute_result"
    }
   ],
   "source": [
    "#dict1.update(iterable) inserts specified items to dictionary\n",
    "\n",
    "dict2 = {'country': 'india', 'seasons':6}\n",
    "dict1.update(dict2); dict1\n",
    "\n",
    "dict1.update({'country': 'india', 'seasons':6});dict1"
   ]
  },
  {
   "cell_type": "code",
   "execution_count": 2,
   "metadata": {},
   "outputs": [
    {
     "data": {
      "text/plain": [
       "{'name': 'shamita', 'age': 22, 'hair': 'black', 'id': 1}"
      ]
     },
     "execution_count": 2,
     "metadata": {},
     "output_type": "execute_result"
    }
   ],
   "source": [
    "d = {'name':'komal', 'age':'23', 'hair':'black', 'id': 1}\n",
    "\n",
    "for x,y in d.items():\n",
    "    if x == 'age':\n",
    "        d[x] = 22\n",
    "        d['name'] = 'shamita'\n",
    "d        "
   ]
  },
  {
   "cell_type": "code",
   "execution_count": 6,
   "metadata": {},
   "outputs": [
    {
     "data": {
      "text/plain": [
       "{}"
      ]
     },
     "execution_count": 6,
     "metadata": {},
     "output_type": "execute_result"
    }
   ],
   "source": [
    "d = {'name':'komal', 'age':'23', 'hair':'black', 'id': 1}\n",
    "\n",
    "if d['age'] == 23:\n",
    "    d['age'] = 55\n",
    "    d['name'] = 'kia'\n",
    "d    \n",
    "\n",
    "del d['name']  ;d     # deleting that particular key\n",
    "d.clear();d         # clearing the dictionary"
   ]
  },
  {
   "cell_type": "markdown",
   "metadata": {},
   "source": [
    "'''\n",
    "Since keys are what dictionaries use to lookup values, you can't really change them. The closest thing you can do is \n",
    "to save the value associated with the old key, delete it, then add a new entry with the replacement key and the saved value.\n",
    "'''"
   ]
  },
  {
   "cell_type": "markdown",
   "metadata": {},
   "source": [
    "## Nested Dictionaries"
   ]
  },
  {
   "cell_type": "code",
   "execution_count": 25,
   "metadata": {},
   "outputs": [
    {
     "name": "stdout",
     "output_type": "stream",
     "text": [
      "{'child1': {'name': 'komal', 'age': 21}, 'child2': {'name': 'ria', 'age': 22}, 'child3': {'name': 'karan', 'age': 23}}\n"
     ]
    },
    {
     "data": {
      "text/plain": [
       "23"
      ]
     },
     "execution_count": 25,
     "metadata": {},
     "output_type": "execute_result"
    }
   ],
   "source": [
    "# keys used not indexing\n",
    "\n",
    "myFamily = {'child1' : {'name':'komal',\n",
    "                        'age':21},\n",
    "            'child2' : {'name':'ria',\n",
    "                       'age': 22},\n",
    "            'child3' : {'name':'karan',\n",
    "                       'age': 23},\n",
    "}\n",
    "print(myFamily)\n",
    "\n",
    "\n",
    "myFamily['child3']['age']"
   ]
  },
  {
   "cell_type": "code",
   "execution_count": 10,
   "metadata": {},
   "outputs": [
    {
     "data": {
      "text/plain": [
       "{'child1': {'name': 'komal', 'age': 22},\n",
       " 'child2': ({'name': 'ria', 'age': 23},),\n",
       " 'child3': {'name': 'karan', 'age': 43}}"
      ]
     },
     "execution_count": 10,
     "metadata": {},
     "output_type": "execute_result"
    }
   ],
   "source": [
    "# nest dictionaries together in a already existing dictionaries\n",
    "\n",
    "# these are different dictionaries\n",
    "child1 = {'name':'komal',\n",
    "         'age':22}\n",
    "child2 = {'name':'ria',\n",
    "         'age':23},\n",
    "child3 = {'name':'karan',\n",
    "         'age':43}\n",
    "\n",
    "#nest in another dictionary\n",
    "myFamily = {\n",
    "    'child1' : child1,\n",
    "    'child2' : child2,\n",
    "    'child3' : child3\n",
    "};myFamily\n",
    "\n",
    "\n"
   ]
  },
  {
   "cell_type": "markdown",
   "metadata": {},
   "source": [
    "### dict constructor"
   ]
  },
  {
   "cell_type": "code",
   "execution_count": 17,
   "metadata": {},
   "outputs": [
    {
     "data": {
      "text/plain": [
       "{'variety1': 'dark_chocolate', 'variety2': 'milk_chocolate'}"
      ]
     },
     "execution_count": 17,
     "metadata": {},
     "output_type": "execute_result"
    }
   ],
   "source": [
    "# () is used\n",
    "# keys are not in strings\n",
    "# use of dict constructor\n",
    "# equals used instead of colon\n",
    "\n",
    "chocolate = dict(variety1 = 'dark_chocolate', variety2 = 'milk_chocolate');chocolate"
   ]
  },
  {
   "cell_type": "markdown",
   "metadata": {},
   "source": [
    "# Tuple"
   ]
  },
  {
   "cell_type": "code",
   "execution_count": 16,
   "metadata": {},
   "outputs": [
    {
     "data": {
      "text/plain": [
       "('komal', 'vats', 5, 6, 'kia')"
      ]
     },
     "execution_count": 16,
     "metadata": {},
     "output_type": "execute_result"
    }
   ],
   "source": [
    "# ordered \n",
    "# immutable unlike lists\n",
    "# repitions allowed\n",
    "\n",
    "tu = ('komal','vats',5,6,'kia');tu"
   ]
  },
  {
   "cell_type": "code",
   "execution_count": 19,
   "metadata": {},
   "outputs": [
    {
     "data": {
      "text/plain": [
       "tuple"
      ]
     },
     "execution_count": 19,
     "metadata": {},
     "output_type": "execute_result"
    }
   ],
   "source": [
    "type(tu)"
   ]
  },
  {
   "cell_type": "code",
   "execution_count": 20,
   "metadata": {},
   "outputs": [
    {
     "data": {
      "text/plain": [
       "'kia'"
      ]
     },
     "execution_count": 20,
     "metadata": {},
     "output_type": "execute_result"
    }
   ],
   "source": [
    "tu[1]\n",
    "tu[-1]"
   ]
  },
  {
   "cell_type": "code",
   "execution_count": 25,
   "metadata": {},
   "outputs": [
    {
     "data": {
      "text/plain": [
       "(5, 6)"
      ]
     },
     "execution_count": 25,
     "metadata": {},
     "output_type": "execute_result"
    }
   ],
   "source": [
    "## range of indexing\n",
    "\n",
    "tu[2:6]\n",
    "tu[-3:-1]"
   ]
  },
  {
   "cell_type": "code",
   "execution_count": 29,
   "metadata": {},
   "outputs": [
    {
     "data": {
      "text/plain": [
       "('neha', 'vats', 1, 2, 3, 'raj')"
      ]
     },
     "execution_count": 29,
     "metadata": {},
     "output_type": "execute_result"
    }
   ],
   "source": [
    "# You can convert the tuple into a list, change the list, and convert the list back into a tuple.\n",
    "\n",
    "# tu[0] = 'a'     #throws error\n",
    "tu = ('komal','vats',1,2,3,'raj');tu\n",
    "y = list(tu)\n",
    "y[0] = 'neha'\n",
    "tu = tuple(y);tu"
   ]
  },
  {
   "cell_type": "code",
   "execution_count": 30,
   "metadata": {},
   "outputs": [
    {
     "name": "stdout",
     "output_type": "stream",
     "text": [
      "neha\n",
      "vats\n",
      "1\n",
      "2\n",
      "3\n",
      "raj\n"
     ]
    }
   ],
   "source": [
    "for i in tu:\n",
    "    print(i)"
   ]
  },
  {
   "cell_type": "code",
   "execution_count": 31,
   "metadata": {},
   "outputs": [
    {
     "data": {
      "text/plain": [
       "6"
      ]
     },
     "execution_count": 31,
     "metadata": {},
     "output_type": "execute_result"
    }
   ],
   "source": [
    "len(tu)"
   ]
  },
  {
   "cell_type": "code",
   "execution_count": 17,
   "metadata": {},
   "outputs": [
    {
     "data": {
      "text/plain": [
       "1"
      ]
     },
     "execution_count": 17,
     "metadata": {},
     "output_type": "execute_result"
    }
   ],
   "source": [
    "tu.count(5)        # frequency of that element"
   ]
  },
  {
   "cell_type": "code",
   "execution_count": 18,
   "metadata": {},
   "outputs": [
    {
     "data": {
      "text/plain": [
       "str"
      ]
     },
     "execution_count": 18,
     "metadata": {},
     "output_type": "execute_result"
    }
   ],
   "source": [
    "# To create a tuple with only one item, you have to add a comma after the item,\n",
    "#otherwise Python will not recognize it as a tuple.(string)\n",
    "\n",
    "tuple1 = ('apple',)\n",
    "type(tuple1)"
   ]
  },
  {
   "cell_type": "code",
   "execution_count": 33,
   "metadata": {},
   "outputs": [
    {
     "data": {
      "text/plain": [
       "4"
      ]
     },
     "execution_count": 33,
     "metadata": {},
     "output_type": "execute_result"
    }
   ],
   "source": [
    "tu = (1,2,3,4,'abc','ko','kia')\n",
    "tu.index('abc')\n"
   ]
  },
  {
   "cell_type": "code",
   "execution_count": 18,
   "metadata": {},
   "outputs": [
    {
     "name": "stdout",
     "output_type": "stream",
     "text": [
      "[(1, 2), [43, 54, 56], 84, 'ko']\n"
     ]
    },
    {
     "data": {
      "text/plain": [
       "tuple"
      ]
     },
     "execution_count": 18,
     "metadata": {},
     "output_type": "execute_result"
    }
   ],
   "source": [
    "# Nested tuple\n",
    "\n",
    "tt = ((1,2),\n",
    "      [43,54,56],\n",
    "      84,\n",
    "      'ko')\n",
    "tt[1][2]\n",
    "tt\n",
    "print(list(tt))     # inter-type conversion;dictionary not applicable\n",
    "\n",
    "type(tt)"
   ]
  },
  {
   "cell_type": "code",
   "execution_count": 19,
   "metadata": {},
   "outputs": [
    {
     "data": {
      "text/plain": [
       "7"
      ]
     },
     "execution_count": 19,
     "metadata": {},
     "output_type": "execute_result"
    }
   ],
   "source": [
    "max({2,3,4,5,3,5,7})"
   ]
  },
  {
   "cell_type": "code",
   "execution_count": 20,
   "metadata": {},
   "outputs": [
    {
     "data": {
      "text/plain": [
       "2"
      ]
     },
     "execution_count": 20,
     "metadata": {},
     "output_type": "execute_result"
    }
   ],
   "source": [
    "min(23,3,2,3,4,22,68)"
   ]
  },
  {
   "cell_type": "code",
   "execution_count": 21,
   "metadata": {},
   "outputs": [
    {
     "data": {
      "text/plain": [
       "23"
      ]
     },
     "execution_count": 21,
     "metadata": {},
     "output_type": "execute_result"
    }
   ],
   "source": [
    "abs(-23)   # absolute value"
   ]
  },
  {
   "cell_type": "code",
   "execution_count": 22,
   "metadata": {},
   "outputs": [
    {
     "name": "stdout",
     "output_type": "stream",
     "text": [
      "1\n"
     ]
    }
   ],
   "source": [
    "print(round(1.233))"
   ]
  },
  {
   "cell_type": "code",
   "execution_count": 24,
   "metadata": {},
   "outputs": [
    {
     "name": "stdout",
     "output_type": "stream",
     "text": [
      "2.333\n"
     ]
    }
   ],
   "source": [
    "print(round(2.3334, 3))    #round(number, ndigits) nuber of digits upto which we want to roundup"
   ]
  },
  {
   "cell_type": "code",
   "execution_count": 27,
   "metadata": {},
   "outputs": [
    {
     "data": {
      "text/plain": [
       "83"
      ]
     },
     "execution_count": 27,
     "metadata": {},
     "output_type": "execute_result"
    }
   ],
   "source": [
    "l = {1,4,2,56,4}\n",
    "sum(l, 20) #20 added to sum of list"
   ]
  },
  {
   "cell_type": "markdown",
   "metadata": {},
   "source": [
    "## tuple constructor"
   ]
  },
  {
   "cell_type": "code",
   "execution_count": 34,
   "metadata": {},
   "outputs": [
    {
     "data": {
      "text/plain": [
       "('apple', 'mango', 'pineapple', 'strawberry', 'kiwi')"
      ]
     },
     "execution_count": 34,
     "metadata": {},
     "output_type": "execute_result"
    }
   ],
   "source": [
    "# double () are used\n",
    "\n",
    "fruits = (('apple','mango','pineapple','strawberry','kiwi'));fruits"
   ]
  },
  {
   "cell_type": "code",
   "execution_count": null,
   "metadata": {},
   "outputs": [],
   "source": []
  }
 ],
 "metadata": {
  "kernelspec": {
   "display_name": "Python 3",
   "language": "python",
   "name": "python3"
  },
  "language_info": {
   "codemirror_mode": {
    "name": "ipython",
    "version": 3
   },
   "file_extension": ".py",
   "mimetype": "text/x-python",
   "name": "python",
   "nbconvert_exporter": "python",
   "pygments_lexer": "ipython3",
   "version": "3.7.6"
  }
 },
 "nbformat": 4,
 "nbformat_minor": 4
}
