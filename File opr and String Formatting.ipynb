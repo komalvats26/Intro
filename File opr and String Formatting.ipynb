{
 "cells": [
  {
   "cell_type": "code",
   "execution_count": 1,
   "metadata": {},
   "outputs": [],
   "source": [
    "file1 = open('myFile.txt', 'w')\n",
    "\n",
    "for i in range(10):\n",
    "    file1.write('This is line number is {}  \\n ' .format(i))\n",
    "\n",
    "file1.close()"
   ]
  },
  {
   "cell_type": "code",
   "execution_count": 2,
   "metadata": {},
   "outputs": [
    {
     "data": {
      "text/plain": [
       "' this is line number is 0  \\n  this is line number is 1  \\n  this is line number is 2  \\n  this is line number is 3  \\n  this is line number is 4  \\n  this is line number is 5  \\n  this is line number is 6  \\n  this is line number is 7  \\n  this is line number is 8  \\n  this is line number is 9  \\n '"
      ]
     },
     "execution_count": 2,
     "metadata": {},
     "output_type": "execute_result"
    }
   ],
   "source": [
    "file1 = open('myFile.txt', 'r')\n",
    "file1.read()"
   ]
  },
  {
   "cell_type": "code",
   "execution_count": 3,
   "metadata": {},
   "outputs": [
    {
     "name": "stdout",
     "output_type": "stream",
     "text": [
      " this is line number is 0  \n",
      "  this is line number is 1  \n",
      "  this is line number is 2  \n",
      "  this is line number is 3  \n",
      "  this is line number is 4  \n",
      "  this is line number is 5  \n",
      "  this is line number is 6  \n",
      "  this is line number is 7  \n",
      "  this is line number is 8  \n",
      "  this is line number is 9  \n",
      " \n"
     ]
    }
   ],
   "source": [
    "# reading the file\n",
    "\n",
    "file1 = open('myFile.txt', 'r')\n",
    "if file1.mode == 'r':\n",
    "    content = file1.read()\n",
    "    print(content)"
   ]
  },
  {
   "cell_type": "code",
   "execution_count": 2,
   "metadata": {},
   "outputs": [],
   "source": [
    "file = open('new_file.txt', 'w')   # w  for writing\n",
    "\n",
    "file.write('hello there \\n')\n",
    "file.write('how are you \\n')\n",
    "file.write('are u hungry \\n')\n",
    "file.write('will u go out to eat? \\n')\n",
    "\n",
    "file.close()"
   ]
  },
  {
   "cell_type": "code",
   "execution_count": 4,
   "metadata": {},
   "outputs": [
    {
     "ename": "FileNotFoundError",
     "evalue": "[Errno 2] No such file or directory: 'new_file.txt'",
     "output_type": "error",
     "traceback": [
      "\u001b[1;31m---------------------------------------------------------------------------\u001b[0m",
      "\u001b[1;31mFileNotFoundError\u001b[0m                         Traceback (most recent call last)",
      "\u001b[1;32m<ipython-input-4-2852be9bb5f9>\u001b[0m in \u001b[0;36m<module>\u001b[1;34m\u001b[0m\n\u001b[1;32m----> 1\u001b[1;33m \u001b[0mfobj\u001b[0m \u001b[1;33m=\u001b[0m \u001b[0mopen\u001b[0m\u001b[1;33m(\u001b[0m\u001b[1;34m'new_file.txt'\u001b[0m\u001b[1;33m)\u001b[0m\u001b[1;33m\u001b[0m\u001b[1;33m\u001b[0m\u001b[0m\n\u001b[0m\u001b[0;32m      2\u001b[0m \u001b[1;32mfor\u001b[0m \u001b[0mline\u001b[0m \u001b[1;32min\u001b[0m \u001b[0mfobj\u001b[0m\u001b[1;33m:\u001b[0m\u001b[1;33m\u001b[0m\u001b[1;33m\u001b[0m\u001b[0m\n\u001b[0;32m      3\u001b[0m     \u001b[0mprint\u001b[0m\u001b[1;33m(\u001b[0m\u001b[0mline\u001b[0m\u001b[1;33m)\u001b[0m\u001b[1;33m\u001b[0m\u001b[1;33m\u001b[0m\u001b[0m\n",
      "\u001b[1;31mFileNotFoundError\u001b[0m: [Errno 2] No such file or directory: 'new_file.txt'"
     ]
    }
   ],
   "source": [
    "fobj = open('new_file.txt')\n",
    "for line in fobj:\n",
    "    print(line)"
   ]
  },
  {
   "cell_type": "code",
   "execution_count": 14,
   "metadata": {},
   "outputs": [],
   "source": [
    "# or\n",
    "\n",
    "file2 = open('new.txt', 'a')\n",
    "\n",
    "lines_of_code = ['first line \\n',  'second line \\n',\n",
    "                 'third line \\n', 'forth line \\n']\n",
    "file2.writelines(lines_of_code)\n",
    "file2.close()\n",
    "\n",
    "# also try for'a' append to append the file and not do overwrtting"
   ]
  },
  {
   "cell_type": "markdown",
   "metadata": {},
   "source": [
    "### readline -> reads only single line\n",
    "### readlines -> read whole file\n"
   ]
  },
  {
   "cell_type": "code",
   "execution_count": 4,
   "metadata": {},
   "outputs": [
    {
     "name": "stdout",
     "output_type": "stream",
     "text": [
      "first line \n",
      "second line \n",
      "third line \n",
      "forth line \n",
      "\n"
     ]
    }
   ],
   "source": [
    "# Reading the file\n",
    "\n",
    "file = open('new.txt', 'r')\n",
    "print(file.read())   # read() gives new lines\n",
    "\n"
   ]
  },
  {
   "cell_type": "code",
   "execution_count": 5,
   "metadata": {},
   "outputs": [
    {
     "name": "stdout",
     "output_type": "stream",
     "text": [
      "first line\n"
     ]
    }
   ],
   "source": [
    "# read first few characters in the file\n",
    "\n",
    "file = open('new.txt', 'r')\n",
    "print(file.read(10))"
   ]
  },
  {
   "cell_type": "code",
   "execution_count": 7,
   "metadata": {},
   "outputs": [
    {
     "name": "stdout",
     "output_type": "stream",
     "text": [
      "first line \n",
      "\n",
      "second line \n",
      "\n",
      "third line \n",
      "\n",
      "forth line \n",
      "\n"
     ]
    }
   ],
   "source": [
    "# read first line\n",
    "\n",
    "# file = open('new.txt', 'r')\n",
    "# print(file.readline())\n",
    "\n",
    "file = open('new.txt', 'r')\n",
    "f = file.readlines()\n",
    "for i in f:\n",
    "    print(i)"
   ]
  },
  {
   "cell_type": "code",
   "execution_count": 17,
   "metadata": {},
   "outputs": [
    {
     "data": {
      "text/plain": [
       "['first line \\n',\n",
       " 'second line \\n',\n",
       " 'third line \\n',\n",
       " 'forth line \\n',\n",
       " 'first line \\n',\n",
       " 'second line \\n',\n",
       " 'third line \\n',\n",
       " 'forth line \\n']"
      ]
     },
     "execution_count": 17,
     "metadata": {},
     "output_type": "execute_result"
    }
   ],
   "source": [
    "file1 = open('new.txt', 'r')\n",
    "file1.readlines()"
   ]
  },
  {
   "cell_type": "code",
   "execution_count": 7,
   "metadata": {},
   "outputs": [
    {
     "name": "stdout",
     "output_type": "stream",
     "text": [
      "['first line \\n', 'second line \\n', 'third line \\n', 'forth line \\n']\n"
     ]
    }
   ],
   "source": [
    "# call whole text in the file without newline\n",
    "file = open('new.txt', 'r')\n",
    "print(file.readlines())"
   ]
  },
  {
   "cell_type": "code",
   "execution_count": 8,
   "metadata": {},
   "outputs": [
    {
     "name": "stdout",
     "output_type": "stream",
     "text": [
      "first line \n",
      "\n",
      "second line \n",
      "\n",
      "third line \n",
      "\n",
      "forth line \n",
      "\n"
     ]
    }
   ],
   "source": [
    "# looping the file\n",
    "\n",
    "file = open('new.txt', 'r')\n",
    "for i in file:\n",
    "    print(i)"
   ]
  },
  {
   "cell_type": "markdown",
   "metadata": {},
   "source": [
    "# ZIP"
   ]
  },
  {
   "cell_type": "code",
   "execution_count": 51,
   "metadata": {},
   "outputs": [
    {
     "data": {
      "text/plain": [
       "[(1, 5), (2, 6), (3, 7), (4, 8), ('new', 'komal'), ('text', 'line')]"
      ]
     },
     "execution_count": 51,
     "metadata": {},
     "output_type": "execute_result"
    }
   ],
   "source": [
    "# zipping\n",
    "# the length of the lists should match else it will not zip that particular element\n",
    "# only 2 arguments can be zipped\n",
    "\n",
    "l1 = [1,2,3,4,'new', 'text']\n",
    "l2 = [5,6,7,8,'komal','line']\n",
    "\n",
    "list(zip(l1,l2))    #tuples, dicts\n"
   ]
  },
  {
   "cell_type": "markdown",
   "metadata": {},
   "source": [
    "# Joins\n"
   ]
  },
  {
   "cell_type": "code",
   "execution_count": 2,
   "metadata": {},
   "outputs": [
    {
     "name": "stdout",
     "output_type": "stream",
     "text": [
      "7 # 6 # 5 # 5 # 4 # 4 # 3 # 4\n",
      "1^2^3^4^5^6\n"
     ]
    }
   ],
   "source": [
    "# syntax \n",
    "# str .join(sequence)\n",
    "\n",
    "s = '^'\n",
    "l = ('1','2','3','4','5','6')\n",
    "l1 = ['7','6','5','5','4','4','3','4']\n",
    "\n",
    "#print(' * '.join(l))\n",
    "print(' # ' .join(l1))\n",
    "print(s.join(l))"
   ]
  },
  {
   "cell_type": "code",
   "execution_count": 53,
   "metadata": {},
   "outputs": [
    {
     "data": {
      "text/plain": [
       "'k_ o_ m_ a_ l'"
      ]
     },
     "execution_count": 53,
     "metadata": {},
     "output_type": "execute_result"
    }
   ],
   "source": [
    "d = ['k','o','m','a','l']\n",
    "'_ '.join(d)"
   ]
  },
  {
   "cell_type": "markdown",
   "metadata": {},
   "source": [
    "# String formatting\n",
    "### The string format() method formats the given string into a nicer output in Python.\n",
    "\n",
    "## String Format Parameters\n",
    "### 1. Positional -> index\n",
    "### 2.Keyword -> keys"
   ]
  },
  {
   "cell_type": "code",
   "execution_count": 2,
   "metadata": {},
   "outputs": [
    {
     "name": "stdout",
     "output_type": "stream",
     "text": [
      "Hello komal your balance is 200.00 and cleardebt is 2.85\n"
     ]
    }
   ],
   "source": [
    "# The format() method returns the formatted string.\n",
    "# positional arguments\n",
    "\n",
    "print('Hello {0} your balance is {1:1.2f} and cleardebt is {2:1.2f}' .format('komal', 199.998,2.8484884 ))\n",
    "\n",
    "# 'Hello {0} your balance is {1:1.2f} is the template string, it contains format code for formatting.\n",
    "# The curly braces are just placeholders for the arguments to be placed.\n",
    "# In the above example, {0} is placeholder for \"komal\" and {1:9.3f} is placeholder for 199.998."
   ]
  },
  {
   "cell_type": "code",
   "execution_count": 1,
   "metadata": {},
   "outputs": [
    {
     "name": "stdout",
     "output_type": "stream",
     "text": [
      "Hello komal your balance is 200.00\n"
     ]
    },
    {
     "data": {
      "text/plain": [
       "'\\nSince the template string references format() arguments as {0} and {1}, the arguments are positional arguments.\\nThey both can also be referenced without the numbers as {} and Python internally converts them to numbers.\\n'"
      ]
     },
     "execution_count": 1,
     "metadata": {},
     "output_type": "execute_result"
    }
   ],
   "source": [
    "print('Hello {} your balance is {:1.2f}' .format('komal', 199.998))\n",
    "\n",
    "'''\n",
    "Since the template string references format() arguments as {0} and {1}, the arguments are positional arguments.\n",
    "They both can also be referenced without the numbers as {} and Python internally converts them to numbers.\n",
    "'''"
   ]
  },
  {
   "cell_type": "code",
   "execution_count": 2,
   "metadata": {},
   "outputs": [
    {
     "name": "stdout",
     "output_type": "stream",
     "text": [
      "hello komal your balance is 200.00: \n"
     ]
    }
   ],
   "source": [
    "# keyword arguments\n",
    "\n",
    "print('hello {name} your balance is {blc:.2f}: ' .format(name = 'komal' ,blc = 199.998))\n",
    "\n",
    "     "
   ]
  },
  {
   "cell_type": "code",
   "execution_count": 16,
   "metadata": {},
   "outputs": [
    {
     "name": "stdout",
     "output_type": "stream",
     "text": [
      "Hello Adam, your balance is 230.2346.\n"
     ]
    }
   ],
   "source": [
    "# mixed arguments\n",
    "print(\"Hello {0}, your balance is {blc}.\".format(\"Adam\", blc=230.2346))\n",
    "# In case of mixed arguments, keyword arguments has to always follow positional arguments."
   ]
  },
  {
   "cell_type": "code",
   "execution_count": 18,
   "metadata": {
    "scrolled": true
   },
   "outputs": [
    {
     "name": "stdout",
     "output_type": "stream",
     "text": [
      "hello pay ur bill of 1222.\n",
      "pay ur bill of 1232.344000\n"
     ]
    }
   ],
   "source": [
    "# integer arguments\n",
    "print('hello pay ur bill of {:d}.' .format(1222))\n",
    "\n",
    "#FLOAT ARGUMENTS\n",
    "print('pay ur bill of {:f}' .format(1232.344))"
   ]
  },
  {
   "cell_type": "code",
   "execution_count": 27,
   "metadata": {},
   "outputs": [
    {
     "name": "stdout",
     "output_type": "stream",
     "text": [
      "cat\n",
      "  cat\n",
      "caterpillar\n",
      "$cat$\n"
     ]
    }
   ],
   "source": [
    "# Padding and Alignments\n",
    "\n",
    "print('{:^1}' .format('cat'))\n",
    "print('{:>5}' .format('cat'))\n",
    "print('{:<5}' .format('caterpillar'))    # strings by default left assigned\n",
    "print('{:$^5}' .format('cat'))\n"
   ]
  },
  {
   "cell_type": "code",
   "execution_count": 28,
   "metadata": {},
   "outputs": [
    {
     "name": "stdout",
     "output_type": "stream",
     "text": [
      "cat\n",
      "cat  \n",
      " cat \n"
     ]
    }
   ],
   "source": [
    "# truncating strings to 3 letters\n",
    "print(\"{:.3}\".format(\"caterpillar\"))\n",
    "\n",
    "# truncating strings to 3 letters\n",
    "# and padding\n",
    "print(\"{:5.3}\".format(\"caterpillar\"))\n",
    "\n",
    "# truncating strings to 3 letters,\n",
    "# padding and center alignment\n",
    "print(\"{:^5.3}\".format(\"caterpillar\"))"
   ]
  },
  {
   "cell_type": "code",
   "execution_count": 29,
   "metadata": {},
   "outputs": [
    {
     "name": "stdout",
     "output_type": "stream",
     "text": [
      "Adam's age is: 23\n"
     ]
    }
   ],
   "source": [
    "# define Person class\n",
    "class Person:\n",
    "    age = 23\n",
    "    name = \"Adam\"\n",
    "\n",
    "# format age\n",
    "print(\"{p.name}'s age is: {p.age}\".format(p=Person())) "
   ]
  },
  {
   "cell_type": "code",
   "execution_count": 30,
   "metadata": {},
   "outputs": [
    {
     "name": "stdout",
     "output_type": "stream",
     "text": [
      "Adam's age is: 23\n"
     ]
    }
   ],
   "source": [
    "# define Person dictionary\n",
    "person = {'age': 23, 'name': 'Adam'}\n",
    "\n",
    "# format age\n",
    "print(\"{p[name]}'s age is: {p[age]}\".format(p=person))"
   ]
  },
  {
   "cell_type": "code",
   "execution_count": 14,
   "metadata": {},
   "outputs": [
    {
     "name": "stdout",
     "output_type": "stream",
     "text": [
      "imarticus welcomes you\n"
     ]
    }
   ],
   "source": [
    "insti = 'imarticus'\n",
    "print('{} welcomes you' .format(insti))"
   ]
  },
  {
   "cell_type": "code",
   "execution_count": 15,
   "metadata": {},
   "outputs": [
    {
     "name": "stdout",
     "output_type": "stream",
     "text": [
      "Imarticus,welcomes you at its Delhi centre .\n"
     ]
    }
   ],
   "source": [
    "print('{},welcomes you at its {} centre .'.format('Imarticus' , 'Delhi' ,'india'))\n"
   ]
  },
  {
   "cell_type": "code",
   "execution_count": 16,
   "metadata": {},
   "outputs": [
    {
     "name": "stdout",
     "output_type": "stream",
     "text": [
      "imaryicus,  welcome you delhi centre\n"
     ]
    }
   ],
   "source": [
    "insti = ['imaryicus', 'delhi']\n",
    "\n",
    "print('{0},  welcome you {1} centre' .format(insti[0], insti[1]))"
   ]
  },
  {
   "cell_type": "code",
   "execution_count": null,
   "metadata": {},
   "outputs": [],
   "source": [
    "print('{temp},welcomes you at its {abc} {0} centre.'.format('Delhi',abc = 'world', temp = 'Imarticus' ))\n",
    "# the keyword argument is always defined at last in .format tuple.\n"
   ]
  },
  {
   "cell_type": "code",
   "execution_count": 3,
   "metadata": {},
   "outputs": [
    {
     "ename": "SyntaxError",
     "evalue": "positional argument follows keyword argument (<ipython-input-3-4e3762cf20f3>, line 1)",
     "output_type": "error",
     "traceback": [
      "\u001b[1;36m  File \u001b[1;32m\"<ipython-input-3-4e3762cf20f3>\"\u001b[1;36m, line \u001b[1;32m1\u001b[0m\n\u001b[1;33m    print('{gfg},welcomes you at its {1} centre.'.format( gfg= 'Delhi', 'Imarticus' ))\u001b[0m\n\u001b[1;37m                                                                       ^\u001b[0m\n\u001b[1;31mSyntaxError\u001b[0m\u001b[1;31m:\u001b[0m positional argument follows keyword argument\n"
     ]
    }
   ],
   "source": [
    "print('{gfg},welcomes you at its {1} centre.'.format( gfg= 'Delhi', 'Imarticus' ))\n"
   ]
  },
  {
   "cell_type": "code",
   "execution_count": null,
   "metadata": {},
   "outputs": [],
   "source": [
    "print('{gfg},welcomes you at its {1} centre.'.format( gfg= 'Delhi', 'Imarticus' ))\n"
   ]
  },
  {
   "cell_type": "code",
   "execution_count": 19,
   "metadata": {},
   "outputs": [
    {
     "name": "stdout",
     "output_type": "stream",
     "text": [
      "imarticus_1,welcomes you at its Delhi_1 centre.\n"
     ]
    }
   ],
   "source": [
    "inst=['imarticus_1','Delhi_1']\n",
    "\n",
    "\n",
    "print('{0},welcomes you at its {1} centre.'.format(inst[0],inst[1]))\n"
   ]
  },
  {
   "cell_type": "code",
   "execution_count": null,
   "metadata": {},
   "outputs": [],
   "source": []
  },
  {
   "cell_type": "code",
   "execution_count": null,
   "metadata": {},
   "outputs": [],
   "source": []
  }
 ],
 "metadata": {
  "kernelspec": {
   "display_name": "Python 3",
   "language": "python",
   "name": "python3"
  },
  "language_info": {
   "codemirror_mode": {
    "name": "ipython",
    "version": 3
   },
   "file_extension": ".py",
   "mimetype": "text/x-python",
   "name": "python",
   "nbconvert_exporter": "python",
   "pygments_lexer": "ipython3",
   "version": "3.7.6"
  }
 },
 "nbformat": 4,
 "nbformat_minor": 4
}
